{
 "cells": [
  {
   "cell_type": "markdown",
   "metadata": {},
   "source": [
    "<img src=\"./intro_images/MIE.PNG\" width=\"100%\" align=\"left\" />"
   ]
  },
  {
   "cell_type": "markdown",
   "metadata": {},
   "source": [
    "<table style=\"float:right;\">\n",
    "    <tr>\n",
    "        <td>                      \n",
    "            <div style=\"text-align: right\"><a href=\"https://alandavies.netlify.com\" target=\"_blank\">Dr Alan Davies</a></div>\n",
    "            <div style=\"text-align: right\">Senior Lecturer health data science</div>\n",
    "            <div style=\"text-align: right\">University of Manchester</div>\n",
    "         </td>\n",
    "         <td>\n",
    "             <img src=\"./intro_images/alan.PNG\" width=\"30%\" />\n",
    "         </td>\n",
    "     </tr>\n",
    "</table>"
   ]
  },
  {
   "cell_type": "markdown",
   "metadata": {},
   "source": [
    "# 5.0 Using functions\n",
    "****"
   ]
  },
  {
   "cell_type": "markdown",
   "metadata": {},
   "source": [
    "#### About this Notebook\n",
    "This notebook introduces the use of functions in SQL for processing data."
   ]
  },
  {
   "cell_type": "markdown",
   "metadata": {},
   "source": [
    "<div class=\"alert alert-block alert-warning\"><b>Learning Objectives:</b> \n",
    "<br/> At the end of this notebook you will be able to:\n",
    "    \n",
    "- Investigate and practice using inbuilt functions in SQL\n",
    "\n",
    "- Investigate and practice aggregating data using SQL\n",
    "\n",
    "</div> "
   ]
  },
  {
   "cell_type": "markdown",
   "metadata": {},
   "source": [
    "<a id=\"top\"></a>\n",
    "\n",
    "<b>Table of contents</b><br>\n",
    "\n",
    "5.1 [Group by](#group)"
   ]
  },
  {
   "cell_type": "markdown",
   "metadata": {
    "collapsed": true
   },
   "source": [
    "In this notebook we will take a look at some of the useful inbuilt SQL functions available to use. The functions available will also depend on the version of SQL you are using. As before let's make the same tables we have been using in previous examples as a starting point."
   ]
  },
  {
   "cell_type": "code",
   "execution_count": 2,
   "metadata": {},
   "outputs": [
    {
     "data": {
      "text/plain": [
       "'Connected: @None'"
      ]
     },
     "execution_count": 2,
     "metadata": {},
     "output_type": "execute_result"
    }
   ],
   "source": [
    "%load_ext sql\n",
    "%sql sqlite://"
   ]
  },
  {
   "cell_type": "code",
   "execution_count": 3,
   "metadata": {},
   "outputs": [
    {
     "name": "stdout",
     "output_type": "stream",
     "text": [
      " * sqlite://\n",
      "Done.\n",
      "Done.\n",
      "Done.\n",
      "Done.\n",
      "Done.\n",
      "Done.\n",
      "1 rows affected.\n",
      "1 rows affected.\n",
      "1 rows affected.\n",
      "1 rows affected.\n",
      "1 rows affected.\n",
      "1 rows affected.\n",
      "1 rows affected.\n",
      "1 rows affected.\n",
      "1 rows affected.\n",
      "1 rows affected.\n",
      "1 rows affected.\n",
      "1 rows affected.\n",
      "1 rows affected.\n",
      "1 rows affected.\n",
      "1 rows affected.\n",
      "1 rows affected.\n",
      "1 rows affected.\n",
      "1 rows affected.\n",
      "1 rows affected.\n",
      "1 rows affected.\n",
      "1 rows affected.\n",
      "1 rows affected.\n",
      "1 rows affected.\n",
      "1 rows affected.\n",
      "1 rows affected.\n",
      "1 rows affected.\n",
      "1 rows affected.\n",
      "1 rows affected.\n",
      "1 rows affected.\n"
     ]
    },
    {
     "data": {
      "text/plain": [
       "[]"
      ]
     },
     "execution_count": 3,
     "metadata": {},
     "output_type": "execute_result"
    }
   ],
   "source": [
    "%%sql\n",
    "DROP TABLE IF EXISTS med_data;\n",
    "CREATE TABLE med_data (\n",
    "    ID INTEGER NOT NULL PRIMARY KEY,\n",
    "    Name VARCHAR(255),\n",
    "    Age INTEGER,\n",
    "    Sex CHAR,\n",
    "    sys INTEGER,\n",
    "    dia INTEGER,\n",
    "    \"Heart rate\" INTEGER\n",
    ");\n",
    "\n",
    "DROP TABLE IF EXISTS drug_table;\n",
    "CREATE TABLE drug_table (\n",
    "    ID INTEGER NOT NULL PRIMARY KEY,\n",
    "    medication VARCHAR(255),\n",
    "    route VARCHAR(4), \n",
    "    \"freq per day\" INTEGER,\n",
    "    dose VARCHAR(255),\n",
    "    patient_id INTEGER,\n",
    "    FOREIGN KEY(patient_id) REFERENCES med_data(ID)\n",
    ");\n",
    "\n",
    "DROP TABLE IF EXISTS medical_history;\n",
    "CREATE TABLE medical_history (\n",
    "    ID INTEGER NOT NULL PRIMARY KEY,\n",
    "    condition VARCHAR(255),\n",
    "    date_diagnosed CHAR(8), \n",
    "    patient_id INTEGER,\n",
    "    FOREIGN KEY(patient_id) REFERENCES med_data(ID)\n",
    ");\n",
    "\n",
    "INSERT INTO med_data (Name, Age, Sex, sys, dia, \"Heart rate\") VALUES(\"Alan Smith\", 24, \"M\", 120, 70, 78);\n",
    "INSERT INTO med_data (Name, Age, Sex, sys, dia, \"Heart rate\") VALUES(\"Maureen Gdiver\", 87, \"F\", 156, 82, 101);\n",
    "INSERT INTO med_data (Name, Age, Sex, sys, dia, \"Heart rate\") VALUES(\"Adam Blythe\", 54, \"M\", 132, 73, 72);\n",
    "INSERT INTO med_data (Name, Age, Sex, sys, dia, \"Heart rate\") VALUES(\"Darren Sanders\", 34, \"M\", 155, 67, 120);\n",
    "INSERT INTO med_data (Name, Age, Sex, sys, dia, \"Heart rate\") VALUES(\"Sally-Ann Joyce\", 19, \"F\", 121, 72, 65);\n",
    "\n",
    "INSERT INTO drug_table (medication, route, \"freq per day\", dose, patient_id) VALUES(\"AMOXICILLIN\", \"PO\", 3, \"500mg\", 1);\n",
    "INSERT INTO drug_table (medication, route, \"freq per day\", dose, patient_id) VALUES(\"IRBESARTAN\", \"PO\", 1, \"150mg\", 2);\n",
    "INSERT INTO drug_table (medication, route, \"freq per day\", dose, patient_id) VALUES(\"DIGOXIN\", \"PO\", 1, \"1.5mg\", 2);\n",
    "INSERT INTO drug_table (medication, route, \"freq per day\", dose, patient_id) VALUES(\"SIMVASTATIN\", \"PO\", 1, \"40mg\", 3);\n",
    "INSERT INTO drug_table (medication, route, \"freq per day\", dose, patient_id) VALUES(\"RAMIPRIL\", \"PO\", 1, \"2.5mg\", 4);\n",
    "INSERT INTO drug_table (medication, route, \"freq per day\", dose, patient_id) VALUES(\"WARFARIN\", \"PO\", 1, \"variable\", 4);\n",
    "INSERT INTO drug_table (medication, route, \"freq per day\", dose, patient_id) VALUES(\"SENNA\", \"PO\", 1, \"15mg\", 4);\n",
    "INSERT INTO drug_table (medication, route, \"freq per day\", dose, patient_id) VALUES(\"None\", \"NA\", 0, \"NA\", 5);\n",
    "\n",
    "INSERT INTO medical_history (condition, date_diagnosed, patient_id) VALUES(\"LRTI\", \"2019-10-18 00:00:00\", 1);\n",
    "INSERT INTO medical_history (condition, date_diagnosed, patient_id) VALUES(\"Appendectomy\", \"2004-11-05 00:00:00\", 1);\n",
    "INSERT INTO medical_history (condition, date_diagnosed, patient_id) VALUES(\"Hypertension\", \"2003-12-12 00:00:00\", 2);\n",
    "INSERT INTO medical_history (condition, date_diagnosed, patient_id) VALUES(\"Atrial fibrillation\", \"2003-12-12 00:00:00\", 2);\n",
    "INSERT INTO medical_history (condition, date_diagnosed, patient_id) VALUES(\"#NOF\", \"1992-07-06 00:00:00\", 2);\n",
    "INSERT INTO medical_history (condition, date_diagnosed, patient_id) VALUES(\"Otitis media\", \"1990-10-18 00:00:00\", 2);\n",
    "INSERT INTO medical_history (condition, date_diagnosed, patient_id) VALUES(\"Pulmonary embolism\", \"1987-03-12 00:00:00\", 2);\n",
    "INSERT INTO medical_history (condition, date_diagnosed, patient_id) VALUES(\"Hypercholesterolemia\", \"2018-04-02 00:00:00\", 3);\n",
    "INSERT INTO medical_history (condition, date_diagnosed, patient_id) VALUES(\"Gonorrhea\", \"2012-06-14 00:00:00\", 3);\n",
    "INSERT INTO medical_history (condition, date_diagnosed, patient_id) VALUES(\"RTC\", \"1994-12-16 00:00:00\", 3);\n",
    "INSERT INTO medical_history (condition, date_diagnosed, patient_id) VALUES(\"Hypertension\", \"2019-08-01 00:00:00\", 4);\n",
    "INSERT INTO medical_history (condition, date_diagnosed, patient_id) VALUES(\"Constipation\", \"2019-04-12 00:00:00\", 4);\n",
    "INSERT INTO medical_history (condition, date_diagnosed, patient_id) VALUES(\"Atrial fibrillation\", \"2017-05-03 00:00:00\", 4);\n",
    "INSERT INTO medical_history (condition, date_diagnosed, patient_id) VALUES(\"CVA\", \"2016-12-16 00:00:00\", 4);\n",
    "INSERT INTO medical_history (condition, date_diagnosed, patient_id) VALUES(\"MI\", \"2014-12-12 00:00:00\", 4);\n",
    "INSERT INTO medical_history (condition, date_diagnosed, patient_id) VALUES(\"PCOS\", \"2016-06-08 00:00:00\", 5);"
   ]
  },
  {
   "cell_type": "markdown",
   "metadata": {},
   "source": [
    "Functions in SQL work in a similar way to Python. We call the function by typing the name of the function and then passing in any required parameters. In the case of SQL this is usually a column name. For example lets have a look at the mean (average) heart rate using the <code>avg</code> function."
   ]
  },
  {
   "cell_type": "code",
   "execution_count": 4,
   "metadata": {},
   "outputs": [
    {
     "name": "stdout",
     "output_type": "stream",
     "text": [
      " * sqlite://\n",
      "Done.\n"
     ]
    },
    {
     "data": {
      "text/html": [
       "<table>\n",
       "    <tr>\n",
       "        <th>avg(&quot;Heart rate&quot;)</th>\n",
       "    </tr>\n",
       "    <tr>\n",
       "        <td>87.2</td>\n",
       "    </tr>\n",
       "</table>"
      ],
      "text/plain": [
       "[(87.2,)]"
      ]
     },
     "execution_count": 4,
     "metadata": {},
     "output_type": "execute_result"
    }
   ],
   "source": [
    "%%sql\n",
    "SELECT avg(\"Heart rate\") FROM med_data;"
   ]
  },
  {
   "cell_type": "markdown",
   "metadata": {},
   "source": [
    "We can rename the column to make it more readable and for further reuse later using <code>AS</code> and then providing a new name. In this case <code>avg_hr</code> for average heart rate."
   ]
  },
  {
   "cell_type": "code",
   "execution_count": 5,
   "metadata": {},
   "outputs": [
    {
     "name": "stdout",
     "output_type": "stream",
     "text": [
      " * sqlite://\n",
      "Done.\n"
     ]
    },
    {
     "data": {
      "text/html": [
       "<table>\n",
       "    <tr>\n",
       "        <th>avg_hr</th>\n",
       "    </tr>\n",
       "    <tr>\n",
       "        <td>87.2</td>\n",
       "    </tr>\n",
       "</table>"
      ],
      "text/plain": [
       "[(87.2,)]"
      ]
     },
     "execution_count": 5,
     "metadata": {},
     "output_type": "execute_result"
    }
   ],
   "source": [
    "%%sql\n",
    "SELECT avg(\"Heart rate\") AS avg_hr FROM med_data;"
   ]
  },
  {
   "cell_type": "markdown",
   "metadata": {
    "solution2": "hidden",
    "solution2_first": true
   },
   "source": [
    "<div class=\"alert alert-block alert-info\">\n",
    "<b>Task 1:</b>\n",
    "<br> \n",
    "Using the <code>max</code> and <code>min</code> functions. Find the maximum and minimum heart rates.\n",
    "</div>"
   ]
  },
  {
   "cell_type": "code",
   "execution_count": 6,
   "metadata": {
    "solution2": "hidden"
   },
   "outputs": [
    {
     "name": "stdout",
     "output_type": "stream",
     "text": [
      " * sqlite://\n",
      "Done.\n"
     ]
    },
    {
     "data": {
      "text/html": [
       "<table>\n",
       "    <tr>\n",
       "        <th>min(&quot;Heart rate&quot;)</th>\n",
       "    </tr>\n",
       "    <tr>\n",
       "        <td>65</td>\n",
       "    </tr>\n",
       "</table>"
      ],
      "text/plain": [
       "[(65,)]"
      ]
     },
     "execution_count": 6,
     "metadata": {},
     "output_type": "execute_result"
    }
   ],
   "source": [
    "%%sql\n",
    "SELECT min(\"Heart rate\") FROM med_data;"
   ]
  },
  {
   "cell_type": "code",
   "execution_count": 7,
   "metadata": {
    "solution2": "hidden"
   },
   "outputs": [
    {
     "name": "stdout",
     "output_type": "stream",
     "text": [
      " * sqlite://\n",
      "Done.\n"
     ]
    },
    {
     "data": {
      "text/html": [
       "<table>\n",
       "    <tr>\n",
       "        <th>max(&quot;Heart rate&quot;)</th>\n",
       "    </tr>\n",
       "    <tr>\n",
       "        <td>120</td>\n",
       "    </tr>\n",
       "</table>"
      ],
      "text/plain": [
       "[(120,)]"
      ]
     },
     "execution_count": 7,
     "metadata": {},
     "output_type": "execute_result"
    }
   ],
   "source": [
    "%%sql\n",
    "SELECT max(\"Heart rate\") FROM med_data;"
   ]
  },
  {
   "cell_type": "code",
   "execution_count": 8,
   "metadata": {},
   "outputs": [
    {
     "name": "stderr",
     "output_type": "stream",
     "text": [
      "UsageError: %%sql is a cell magic, but the cell body is empty. Did you mean the line magic %sql (single %)?\n"
     ]
    }
   ],
   "source": [
    "%%sql # type in your code below\n"
   ]
  },
  {
   "cell_type": "code",
   "execution_count": null,
   "metadata": {
    "collapsed": true
   },
   "outputs": [],
   "source": [
    "%%sql # type in your code below\n"
   ]
  },
  {
   "cell_type": "markdown",
   "metadata": {
    "solution2": "hidden",
    "solution2_first": true
   },
   "source": [
    "<div class=\"alert alert-block alert-info\">\n",
    "<b>Task 2:</b>\n",
    "<br> \n",
    "Find all the heart rates above the average heart rate. Return the patients name and heart rates. <strong>Hint:</strong> you will need to use another <code>SELECT</code> statement in brackets to call the <code>avg</code> function.\n",
    "</div>"
   ]
  },
  {
   "cell_type": "code",
   "execution_count": null,
   "metadata": {
    "collapsed": true,
    "solution2": "hidden"
   },
   "outputs": [],
   "source": [
    "%%sql\n",
    "SELECT Name, \"Heart rate\" FROM med_data WHERE \"Heart rate\" > (SELECT avg(\"Heart rate\") FROM med_data);"
   ]
  },
  {
   "cell_type": "code",
   "execution_count": null,
   "metadata": {
    "collapsed": true
   },
   "outputs": [],
   "source": [
    "%%sql # type in your code below\n"
   ]
  },
  {
   "cell_type": "markdown",
   "metadata": {},
   "source": [
    "These functions are often used for more complex queries built on aggregate data and for data science. This sort of approach is also used by the <code>tidyverse</code> package in <code>R</code> for sub-setting data for statistical analysis. There are also functions for dealing with dates and times as we saw earlier. A number of functions also exist for text operations, such as making all the text upper or lower case and trimming strings or finding substrings. For a list of SQLite functions have a look at this link: \n",
    "<a href=\"https://www.sqlite.org/lang_corefunc.html#ifnull\" target=\"_blank\">SQLite functions</a>."
   ]
  },
  {
   "cell_type": "markdown",
   "metadata": {},
   "source": [
    "<a id=\"group\"></a>\n",
    "#### 5.1 Group by"
   ]
  },
  {
   "cell_type": "markdown",
   "metadata": {},
   "source": [
    "If we want to make a set of summary rows based on the values of a column or columns, we can use the <code>GROUP BY</code> command. We can then apply an aggregate function (<code>COUNT</code>, <code>SUM</code>, <code>AVG</code> etc.) for a subgroup. This is best illustrated with an example. Let's consider some hospital employee pay data."
   ]
  },
  {
   "cell_type": "code",
   "execution_count": 10,
   "metadata": {},
   "outputs": [
    {
     "name": "stdout",
     "output_type": "stream",
     "text": [
      " * sqlite://\n",
      "Done.\n",
      "Done.\n",
      "1 rows affected.\n",
      "1 rows affected.\n",
      "1 rows affected.\n",
      "1 rows affected.\n",
      "1 rows affected.\n",
      "1 rows affected.\n",
      "1 rows affected.\n",
      "1 rows affected.\n",
      "Done.\n"
     ]
    },
    {
     "data": {
      "text/html": [
       "<table>\n",
       "    <tr>\n",
       "        <th>ID</th>\n",
       "        <th>staff_name</th>\n",
       "        <th>staff_number</th>\n",
       "        <th>role</th>\n",
       "        <th>dept_id</th>\n",
       "        <th>salary</th>\n",
       "    </tr>\n",
       "    <tr>\n",
       "        <td>2</td>\n",
       "        <td>Jac Naylor</td>\n",
       "        <td>546454</td>\n",
       "        <td>Cardiothoracic consultant</td>\n",
       "        <td>1</td>\n",
       "        <td>163500</td>\n",
       "    </tr>\n",
       "    <tr>\n",
       "        <td>4</td>\n",
       "        <td>Connie Beauchamp</td>\n",
       "        <td>43533</td>\n",
       "        <td>Clinical lead (ED)</td>\n",
       "        <td>2</td>\n",
       "        <td>155300</td>\n",
       "    </tr>\n",
       "    <tr>\n",
       "        <td>1</td>\n",
       "        <td>Rick Griffin</td>\n",
       "        <td>342342</td>\n",
       "        <td>General surgeon</td>\n",
       "        <td>1</td>\n",
       "        <td>152000</td>\n",
       "    </tr>\n",
       "    <tr>\n",
       "        <td>3</td>\n",
       "        <td>Adrian Fletcher</td>\n",
       "        <td>437443</td>\n",
       "        <td>Nursing manager</td>\n",
       "        <td>1</td>\n",
       "        <td>55000</td>\n",
       "    </tr>\n",
       "    <tr>\n",
       "        <td>5</td>\n",
       "        <td>Donna Jackson</td>\n",
       "        <td>342422</td>\n",
       "        <td>Ward nurse</td>\n",
       "        <td>1</td>\n",
       "        <td>26300</td>\n",
       "    </tr>\n",
       "    <tr>\n",
       "        <td>6</td>\n",
       "        <td>Noel Garcia</td>\n",
       "        <td>56443</td>\n",
       "        <td>Receptionist</td>\n",
       "        <td>2</td>\n",
       "        <td>22000</td>\n",
       "    </tr>\n",
       "    <tr>\n",
       "        <td>7</td>\n",
       "        <td>Barry Smith</td>\n",
       "        <td>342342</td>\n",
       "        <td>Domestic</td>\n",
       "        <td>2</td>\n",
       "        <td>18300</td>\n",
       "    </tr>\n",
       "    <tr>\n",
       "        <td>8</td>\n",
       "        <td>Donald Givings</td>\n",
       "        <td>546546</td>\n",
       "        <td>Domestic</td>\n",
       "        <td>3</td>\n",
       "        <td>18300</td>\n",
       "    </tr>\n",
       "</table>"
      ],
      "text/plain": [
       "[(2, 'Jac Naylor', '546454', 'Cardiothoracic consultant', 1, 163500),\n",
       " (4, 'Connie Beauchamp', '43533', 'Clinical lead (ED)', 2, 155300),\n",
       " (1, 'Rick Griffin', '342342', 'General surgeon', 1, 152000),\n",
       " (3, 'Adrian Fletcher', '437443', 'Nursing manager', 1, 55000),\n",
       " (5, 'Donna Jackson', '342422', 'Ward nurse', 1, 26300),\n",
       " (6, 'Noel Garcia', '56443', 'Receptionist', 2, 22000),\n",
       " (7, 'Barry Smith', '342342', 'Domestic', 2, 18300),\n",
       " (8, 'Donald Givings', '546546', 'Domestic', 3, 18300)]"
      ]
     },
     "execution_count": 10,
     "metadata": {},
     "output_type": "execute_result"
    }
   ],
   "source": [
    "%%sql\n",
    "DROP TABLE IF EXISTS hospital_staff;\n",
    "CREATE TABLE hospital_staff (\n",
    "    ID INTEGER NOT NULL PRIMARY KEY,\n",
    "    staff_name VARCHAR(255),\n",
    "    staff_number CHAR(8),\n",
    "    role VARCHAR(255), \n",
    "    dept_id INTEGER,\n",
    "    salary INTEGER\n",
    ");\n",
    "\n",
    "INSERT INTO hospital_staff (staff_name, staff_number, role, dept_id, salary) VALUES(\"Rick Griffin\", \"342342\", \"General surgeon\", 1, 152000);\n",
    "INSERT INTO hospital_staff (staff_name, staff_number, role, dept_id, salary) VALUES(\"Jac Naylor\", \"546454\", \"Cardiothoracic consultant\", 1, 163500);\n",
    "INSERT INTO hospital_staff (staff_name, staff_number, role, dept_id, salary) VALUES(\"Adrian Fletcher\", \"437443\", \"Nursing manager\", 1, 55000);\n",
    "INSERT INTO hospital_staff (staff_name, staff_number, role, dept_id, salary) VALUES(\"Connie Beauchamp\", \"43533\", \"Clinical lead (ED)\", 2, 155300);\n",
    "INSERT INTO hospital_staff (staff_name, staff_number, role, dept_id, salary) VALUES(\"Donna Jackson\", \"342422\", \"Ward nurse\", 1, 26300);\n",
    "INSERT INTO hospital_staff (staff_name, staff_number, role, dept_id, salary) VALUES(\"Noel Garcia\", \"56443\", \"Receptionist\", 2, 22000);\n",
    "INSERT INTO hospital_staff (staff_name, staff_number, role, dept_id, salary) VALUES(\"Barry Smith\", \"342342\", \"Domestic\", 2, 18300);\n",
    "INSERT INTO hospital_staff (staff_name, staff_number, role, dept_id, salary) VALUES(\"Donald Givings\", \"546546\", \"Domestic\", 3, 18300);\n",
    "\n",
    "SELECT * FROM hospital_staff ORDER BY salary DESC;"
   ]
  },
  {
   "cell_type": "markdown",
   "metadata": {},
   "source": [
    "<div class=\"alert alert-success\">\n",
    "<b>Note:</b> You might be wondering why we didn't use <code>REAL</code> or <code>DOUBLE</code> to store the currency values. In SQLite most people tend to use <code>INTEGER</code> and store prices in the lowest unit (so $1.00 becomes 100). There is often an extra field to indicate the currency value.\n",
    "</div>"
   ]
  },
  {
   "cell_type": "markdown",
   "metadata": {},
   "source": [
    "So here we have some hospital staff with their role, a departmental id and their salary. We can use the <code>GROUP BY</code> with the <code>max</code> function to find the top earners in each department. So here we select the fields, including the maximum salary and we group the results by the department id. We can see that <code>Jac Naylor</code> earns the most in department 1 and <code>Connie Beauchamp</code> earns the most in department 2 etc."
   ]
  },
  {
   "cell_type": "code",
   "execution_count": 11,
   "metadata": {},
   "outputs": [
    {
     "name": "stdout",
     "output_type": "stream",
     "text": [
      " * sqlite://\n",
      "Done.\n"
     ]
    },
    {
     "data": {
      "text/html": [
       "<table>\n",
       "    <tr>\n",
       "        <th>staff_name</th>\n",
       "        <th>staff_number</th>\n",
       "        <th>role</th>\n",
       "        <th>dept_id</th>\n",
       "        <th>max(salary)</th>\n",
       "    </tr>\n",
       "    <tr>\n",
       "        <td>Jac Naylor</td>\n",
       "        <td>546454</td>\n",
       "        <td>Cardiothoracic consultant</td>\n",
       "        <td>1</td>\n",
       "        <td>163500</td>\n",
       "    </tr>\n",
       "    <tr>\n",
       "        <td>Connie Beauchamp</td>\n",
       "        <td>43533</td>\n",
       "        <td>Clinical lead (ED)</td>\n",
       "        <td>2</td>\n",
       "        <td>155300</td>\n",
       "    </tr>\n",
       "    <tr>\n",
       "        <td>Donald Givings</td>\n",
       "        <td>546546</td>\n",
       "        <td>Domestic</td>\n",
       "        <td>3</td>\n",
       "        <td>18300</td>\n",
       "    </tr>\n",
       "</table>"
      ],
      "text/plain": [
       "[('Jac Naylor', '546454', 'Cardiothoracic consultant', 1, 163500),\n",
       " ('Connie Beauchamp', '43533', 'Clinical lead (ED)', 2, 155300),\n",
       " ('Donald Givings', '546546', 'Domestic', 3, 18300)]"
      ]
     },
     "execution_count": 11,
     "metadata": {},
     "output_type": "execute_result"
    }
   ],
   "source": [
    "%%sql\n",
    "SELECT staff_name, staff_number, role, dept_id, max(salary) \n",
    "FROM hospital_staff\n",
    "GROUP BY dept_id;"
   ]
  },
  {
   "cell_type": "markdown",
   "metadata": {},
   "source": [
    "We can also use the <code>HAVING</code> clause to do additional filtering. <code>WHERE</code> applies to an individual table element, where as <code>HAVING</code> is used to filter conditions based on groups. So here we do the same query but add an additional constraint to make sure there has to be more than 1 member of staff in a given department to find the highest earner. "
   ]
  },
  {
   "cell_type": "code",
   "execution_count": 12,
   "metadata": {},
   "outputs": [
    {
     "name": "stdout",
     "output_type": "stream",
     "text": [
      " * sqlite://\n",
      "Done.\n"
     ]
    },
    {
     "data": {
      "text/html": [
       "<table>\n",
       "    <tr>\n",
       "        <th>staff_name</th>\n",
       "        <th>staff_number</th>\n",
       "        <th>role</th>\n",
       "        <th>dept_id</th>\n",
       "        <th>max(salary)</th>\n",
       "    </tr>\n",
       "    <tr>\n",
       "        <td>Jac Naylor</td>\n",
       "        <td>546454</td>\n",
       "        <td>Cardiothoracic consultant</td>\n",
       "        <td>1</td>\n",
       "        <td>163500</td>\n",
       "    </tr>\n",
       "    <tr>\n",
       "        <td>Connie Beauchamp</td>\n",
       "        <td>43533</td>\n",
       "        <td>Clinical lead (ED)</td>\n",
       "        <td>2</td>\n",
       "        <td>155300</td>\n",
       "    </tr>\n",
       "</table>"
      ],
      "text/plain": [
       "[('Jac Naylor', '546454', 'Cardiothoracic consultant', 1, 163500),\n",
       " ('Connie Beauchamp', '43533', 'Clinical lead (ED)', 2, 155300)]"
      ]
     },
     "execution_count": 12,
     "metadata": {},
     "output_type": "execute_result"
    }
   ],
   "source": [
    "%%sql\n",
    "SELECT staff_name, staff_number, role, dept_id, max(salary) \n",
    "FROM hospital_staff\n",
    "GROUP BY dept_id\n",
    "HAVING COUNT(*) > 1;"
   ]
  },
  {
   "cell_type": "markdown",
   "metadata": {
    "solution2": "hidden",
    "solution2_first": true
   },
   "source": [
    "<div class=\"alert alert-block alert-info\">\n",
    "<b>Task 3:</b>\n",
    "<br> \n",
    "1. Modifying the initial query above, find the smallest salary for each departmental group.<br />\n",
    "2. Find the total salary of all employees in the <code>hospital_staff</code> table.\n",
    "</div>"
   ]
  },
  {
   "cell_type": "code",
   "execution_count": 13,
   "metadata": {
    "solution2": "hidden"
   },
   "outputs": [
    {
     "name": "stdout",
     "output_type": "stream",
     "text": [
      " * sqlite://\n",
      "Done.\n"
     ]
    },
    {
     "data": {
      "text/html": [
       "<table>\n",
       "    <tr>\n",
       "        <th>staff_name</th>\n",
       "        <th>staff_number</th>\n",
       "        <th>role</th>\n",
       "        <th>dept_id</th>\n",
       "        <th>min(salary)</th>\n",
       "    </tr>\n",
       "    <tr>\n",
       "        <td>Donna Jackson</td>\n",
       "        <td>342422</td>\n",
       "        <td>Ward nurse</td>\n",
       "        <td>1</td>\n",
       "        <td>26300</td>\n",
       "    </tr>\n",
       "    <tr>\n",
       "        <td>Barry Smith</td>\n",
       "        <td>342342</td>\n",
       "        <td>Domestic</td>\n",
       "        <td>2</td>\n",
       "        <td>18300</td>\n",
       "    </tr>\n",
       "    <tr>\n",
       "        <td>Donald Givings</td>\n",
       "        <td>546546</td>\n",
       "        <td>Domestic</td>\n",
       "        <td>3</td>\n",
       "        <td>18300</td>\n",
       "    </tr>\n",
       "</table>"
      ],
      "text/plain": [
       "[('Donna Jackson', '342422', 'Ward nurse', 1, 26300),\n",
       " ('Barry Smith', '342342', 'Domestic', 2, 18300),\n",
       " ('Donald Givings', '546546', 'Domestic', 3, 18300)]"
      ]
     },
     "execution_count": 13,
     "metadata": {},
     "output_type": "execute_result"
    }
   ],
   "source": [
    "%%sql\n",
    "SELECT staff_name, staff_number, role, dept_id, min(salary) \n",
    "FROM hospital_staff\n",
    "GROUP BY dept_id;"
   ]
  },
  {
   "cell_type": "code",
   "execution_count": 17,
   "metadata": {
    "solution2": "hidden"
   },
   "outputs": [
    {
     "name": "stdout",
     "output_type": "stream",
     "text": [
      " * sqlite://\n",
      "Done.\n"
     ]
    },
    {
     "data": {
      "text/html": [
       "<table>\n",
       "    <tr>\n",
       "        <th>Total</th>\n",
       "    </tr>\n",
       "    <tr>\n",
       "        <td>610700</td>\n",
       "    </tr>\n",
       "</table>"
      ],
      "text/plain": [
       "[(610700,)]"
      ]
     },
     "execution_count": 17,
     "metadata": {},
     "output_type": "execute_result"
    }
   ],
   "source": [
    "%%sql\n",
    "SELECT sum(salary) AS Total FROM hospital_staff"
   ]
  },
  {
   "cell_type": "code",
   "execution_count": null,
   "metadata": {
    "collapsed": true
   },
   "outputs": [],
   "source": [
    "%%sql # type in your code below\n"
   ]
  },
  {
   "cell_type": "code",
   "execution_count": null,
   "metadata": {
    "collapsed": true
   },
   "outputs": [],
   "source": [
    "%%sql # type in your code below\n"
   ]
  },
  {
   "cell_type": "markdown",
   "metadata": {
    "solution2": "hidden",
    "solution2_first": true
   },
   "source": [
    "<div class=\"alert alert-block alert-info\">\n",
    "<b>Task 4:</b>\n",
    "<br> \n",
    "Convert all the staff names in the <code>hospital_staff</code> table to upper case (capital letters). <strong>Hint:</strong> You might need to look at the list of functions presented earlier (<a href=\"https://www.sqlite.org/lang_corefunc.html#ifnull\" target=\"_blank\">SQLite functions</a>). Also remember you need to update the tables contents with <code>UPDATE</code>. \n",
    "</div>"
   ]
  },
  {
   "cell_type": "code",
   "execution_count": 18,
   "metadata": {
    "solution2": "hidden"
   },
   "outputs": [
    {
     "name": "stdout",
     "output_type": "stream",
     "text": [
      " * sqlite://\n",
      "8 rows affected.\n",
      "Done.\n"
     ]
    },
    {
     "data": {
      "text/html": [
       "<table>\n",
       "    <tr>\n",
       "        <th>ID</th>\n",
       "        <th>staff_name</th>\n",
       "        <th>staff_number</th>\n",
       "        <th>role</th>\n",
       "        <th>dept_id</th>\n",
       "        <th>salary</th>\n",
       "    </tr>\n",
       "    <tr>\n",
       "        <td>1</td>\n",
       "        <td>RICK GRIFFIN</td>\n",
       "        <td>342342</td>\n",
       "        <td>General surgeon</td>\n",
       "        <td>1</td>\n",
       "        <td>152000</td>\n",
       "    </tr>\n",
       "    <tr>\n",
       "        <td>2</td>\n",
       "        <td>JAC NAYLOR</td>\n",
       "        <td>546454</td>\n",
       "        <td>Cardiothoracic consultant</td>\n",
       "        <td>1</td>\n",
       "        <td>163500</td>\n",
       "    </tr>\n",
       "    <tr>\n",
       "        <td>3</td>\n",
       "        <td>ADRIAN FLETCHER</td>\n",
       "        <td>437443</td>\n",
       "        <td>Nursing manager</td>\n",
       "        <td>1</td>\n",
       "        <td>55000</td>\n",
       "    </tr>\n",
       "    <tr>\n",
       "        <td>4</td>\n",
       "        <td>CONNIE BEAUCHAMP</td>\n",
       "        <td>43533</td>\n",
       "        <td>Clinical lead (ED)</td>\n",
       "        <td>2</td>\n",
       "        <td>155300</td>\n",
       "    </tr>\n",
       "    <tr>\n",
       "        <td>5</td>\n",
       "        <td>DONNA JACKSON</td>\n",
       "        <td>342422</td>\n",
       "        <td>Ward nurse</td>\n",
       "        <td>1</td>\n",
       "        <td>26300</td>\n",
       "    </tr>\n",
       "    <tr>\n",
       "        <td>6</td>\n",
       "        <td>NOEL GARCIA</td>\n",
       "        <td>56443</td>\n",
       "        <td>Receptionist</td>\n",
       "        <td>2</td>\n",
       "        <td>22000</td>\n",
       "    </tr>\n",
       "    <tr>\n",
       "        <td>7</td>\n",
       "        <td>BARRY SMITH</td>\n",
       "        <td>342342</td>\n",
       "        <td>Domestic</td>\n",
       "        <td>2</td>\n",
       "        <td>18300</td>\n",
       "    </tr>\n",
       "    <tr>\n",
       "        <td>8</td>\n",
       "        <td>DONALD GIVINGS</td>\n",
       "        <td>546546</td>\n",
       "        <td>Domestic</td>\n",
       "        <td>3</td>\n",
       "        <td>18300</td>\n",
       "    </tr>\n",
       "</table>"
      ],
      "text/plain": [
       "[(1, 'RICK GRIFFIN', '342342', 'General surgeon', 1, 152000),\n",
       " (2, 'JAC NAYLOR', '546454', 'Cardiothoracic consultant', 1, 163500),\n",
       " (3, 'ADRIAN FLETCHER', '437443', 'Nursing manager', 1, 55000),\n",
       " (4, 'CONNIE BEAUCHAMP', '43533', 'Clinical lead (ED)', 2, 155300),\n",
       " (5, 'DONNA JACKSON', '342422', 'Ward nurse', 1, 26300),\n",
       " (6, 'NOEL GARCIA', '56443', 'Receptionist', 2, 22000),\n",
       " (7, 'BARRY SMITH', '342342', 'Domestic', 2, 18300),\n",
       " (8, 'DONALD GIVINGS', '546546', 'Domestic', 3, 18300)]"
      ]
     },
     "execution_count": 18,
     "metadata": {},
     "output_type": "execute_result"
    }
   ],
   "source": [
    "%%sql\n",
    "UPDATE hospital_staff SET staff_name = upper(staff_name);\n",
    "SELECT * FROM hospital_staff;"
   ]
  },
  {
   "cell_type": "code",
   "execution_count": null,
   "metadata": {
    "collapsed": true
   },
   "outputs": [],
   "source": [
    "%%sql # type in your code below\n"
   ]
  },
  {
   "cell_type": "markdown",
   "metadata": {},
   "source": [
    "In the final notebook we will consider how we can combine SQL with Python. You will frequently see systems written in a modern programming language such as Python that connect to a back end relational database. As this is a common situation there are many libraries that have been created to support this activity in the various programming languages. "
   ]
  },
  {
   "cell_type": "markdown",
   "metadata": {
    "collapsed": true
   },
   "source": [
    "### Notebook details\n",
    "<br>\n",
    "<i>Notebook created by <strong>Dr. Alan Davies</strong> \n",
    "\n",
    "Publish date: March 2021<br>\n",
    "Review date: March 2022</i>\n",
    "\n",
    "Please give your feedback using the button below:"
   ]
  },
  {
   "cell_type": "markdown",
   "metadata": {},
   "source": [
    "<a class=\"typeform-share button\" href=\"https://hub11.typeform.com/to/Cx87HtZ7\" data-mode=\"popup\" style=\"display:inline-block;text-decoration:none;background-color:#3A7685;color:white;cursor:pointer;font-family:Helvetica,Arial,sans-serif;font-size:18px;line-height:45px;text-align:center;margin:0;height:45px;padding:0px 30px;border-radius:22px;max-width:100%;white-space:nowrap;overflow:hidden;text-overflow:ellipsis;font-weight:bold;-webkit-font-smoothing:antialiased;-moz-osx-font-smoothing:grayscale;\" target=\"_blank\">Rate this notebook </a> <script> (function() { var qs,js,q,s,d=document, gi=d.getElementById, ce=d.createElement, gt=d.getElementsByTagName, id=\"typef_orm_share\", b=\"https://embed.typeform.com/\"; if(!gi.call(d,id)){ js=ce.call(d,\"script\"); js.id=id; js.src=b+\"embed.js\"; q=gt.call(d,\"script\")[0]; q.parentNode.insertBefore(js,q) } })() </script>"
   ]
  },
  {
   "cell_type": "markdown",
   "metadata": {},
   "source": [
    "## Notes:"
   ]
  },
  {
   "cell_type": "code",
   "execution_count": null,
   "metadata": {},
   "outputs": [],
   "source": []
  },
  {
   "cell_type": "code",
   "execution_count": null,
   "metadata": {},
   "outputs": [],
   "source": []
  },
  {
   "cell_type": "code",
   "execution_count": null,
   "metadata": {},
   "outputs": [],
   "source": []
  }
 ],
 "metadata": {
  "hide_input": false,
  "kernelspec": {
   "display_name": "Python 3",
   "language": "python",
   "name": "python3"
  },
  "language_info": {
   "codemirror_mode": {
    "name": "ipython",
    "version": 3
   },
   "file_extension": ".py",
   "mimetype": "text/x-python",
   "name": "python",
   "nbconvert_exporter": "python",
   "pygments_lexer": "ipython3",
   "version": "3.7.6"
  }
 },
 "nbformat": 4,
 "nbformat_minor": 2
}
