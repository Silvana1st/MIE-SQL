{
 "cells": [
  {
   "cell_type": "markdown",
   "metadata": {},
   "source": [
    "<img src=\"./intro_images/MIE.png\" width=\"100%\" align=\"left\" />"
   ]
  },
  {
   "cell_type": "markdown",
   "metadata": {},
   "source": [
    "<table style=\"float:right;\">\n",
    "    <tr>\n",
    "        <td>                      \n",
    "            <div style=\"text-align: right\"><a href=\"https://alandavies.netlify.com\" target=\"_blank\">Dr Alan Davies</a></div>\n",
    "            <div style=\"text-align: right\">Lecturer health data science</div>\n",
    "            <div style=\"text-align: right\">University of Manchester</div>\n",
    "         </td>\n",
    "         <td>\n",
    "             <img src=\"./intro_images/alan.png\" width=\"30%\" />\n",
    "         </td>\n",
    "     </tr>\n",
    "</table>"
   ]
  },
  {
   "cell_type": "markdown",
   "metadata": {},
   "source": [
    "# Linking tables together\n",
    "****"
   ]
  },
  {
   "cell_type": "markdown",
   "metadata": {
    "collapsed": true
   },
   "source": [
    "In the last notebook we looked at how we could use a <code>join</code> to combine results from several tables in a query. Joins allow us combine rows from multiple tables based on some related column. Here we will look at how we can combine data in various ways from the multiple tables it may be stored within. "
   ]
  },
  {
   "cell_type": "code",
   "execution_count": 5,
   "metadata": {},
   "outputs": [
    {
     "name": "stdout",
     "output_type": "stream",
     "text": [
      "The sql extension is already loaded. To reload it, use:\n",
      "  %reload_ext sql\n"
     ]
    },
    {
     "data": {
      "text/plain": [
       "'Connected: @None'"
      ]
     },
     "execution_count": 5,
     "metadata": {},
     "output_type": "execute_result"
    }
   ],
   "source": [
    "%load_ext sql\n",
    "%sql sqlite://"
   ]
  },
  {
   "cell_type": "markdown",
   "metadata": {},
   "source": [
    "First we need to construct some tables for us to make some joins. Let's also add a medical history table to store information about the patients past medical issues. The structure will look like this:"
   ]
  },
  {
   "cell_type": "markdown",
   "metadata": {},
   "source": [
    "<img src=\"./intro_images/rel.png\" width=\"60%\" />"
   ]
  },
  {
   "cell_type": "code",
   "execution_count": 67,
   "metadata": {},
   "outputs": [
    {
     "name": "stdout",
     "output_type": "stream",
     "text": [
      " * sqlite://\n",
      "Done.\n",
      "Done.\n",
      "Done.\n",
      "Done.\n",
      "Done.\n",
      "Done.\n",
      "1 rows affected.\n",
      "1 rows affected.\n",
      "1 rows affected.\n",
      "1 rows affected.\n",
      "1 rows affected.\n",
      "1 rows affected.\n",
      "1 rows affected.\n",
      "1 rows affected.\n",
      "1 rows affected.\n",
      "1 rows affected.\n",
      "1 rows affected.\n",
      "1 rows affected.\n",
      "1 rows affected.\n",
      "1 rows affected.\n",
      "1 rows affected.\n",
      "1 rows affected.\n",
      "1 rows affected.\n",
      "1 rows affected.\n",
      "1 rows affected.\n",
      "1 rows affected.\n",
      "1 rows affected.\n",
      "1 rows affected.\n",
      "1 rows affected.\n",
      "1 rows affected.\n",
      "1 rows affected.\n",
      "1 rows affected.\n",
      "1 rows affected.\n",
      "1 rows affected.\n",
      "1 rows affected.\n"
     ]
    },
    {
     "data": {
      "text/plain": [
       "[]"
      ]
     },
     "execution_count": 67,
     "metadata": {},
     "output_type": "execute_result"
    }
   ],
   "source": [
    "%%sql\n",
    "DROP TABLE IF EXISTS med_data;\n",
    "CREATE TABLE med_data (\n",
    "    ID INTEGER NOT NULL PRIMARY KEY,\n",
    "    Name VARCHAR(255),\n",
    "    Age INTEGER,\n",
    "    Sex CHAR,\n",
    "    sys INTEGER,\n",
    "    dia INTEGER,\n",
    "    \"Heart rate\" INTEGER\n",
    ");\n",
    "\n",
    "DROP TABLE IF EXISTS drug_table;\n",
    "CREATE TABLE drug_table (\n",
    "    ID INTEGER NOT NULL PRIMARY KEY,\n",
    "    medication VARCHAR(255),\n",
    "    route VARCHAR(4), \n",
    "    \"freq per day\" INTEGER,\n",
    "    dose VARCHAR(255),\n",
    "    patient_id INTEGER,\n",
    "    FOREIGN KEY(patient_id) REFERENCES med_data(ID)\n",
    ");\n",
    "\n",
    "DROP TABLE IF EXISTS medical_history;\n",
    "CREATE TABLE medical_history (\n",
    "    ID INTEGER NOT NULL PRIMARY KEY,\n",
    "    condition VARCHAR(255),\n",
    "    date_diagnosed CHAR(8), \n",
    "    patient_id INTEGER,\n",
    "    FOREIGN KEY(patient_id) REFERENCES med_data(ID)\n",
    ");\n",
    "\n",
    "INSERT INTO med_data (Name, Age, Sex, sys, dia, \"Heart rate\") VALUES(\"Alan Smith\", 24, \"M\", 120, 70, 78);\n",
    "INSERT INTO med_data (Name, Age, Sex, sys, dia, \"Heart rate\") VALUES(\"Maureen Gdiver\", 87, \"F\", 156, 82, 101);\n",
    "INSERT INTO med_data (Name, Age, Sex, sys, dia, \"Heart rate\") VALUES(\"Adam Blythe\", 54, \"M\", 132, 73, 72);\n",
    "INSERT INTO med_data (Name, Age, Sex, sys, dia, \"Heart rate\") VALUES(\"Darren Sanders\", 34, \"M\", 155, 67, 120);\n",
    "INSERT INTO med_data (Name, Age, Sex, sys, dia, \"Heart rate\") VALUES(\"Sally-Ann Joyce\", 19, \"F\", 121, 72, 65);\n",
    "\n",
    "INSERT INTO drug_table (medication, route, \"freq per day\", dose, patient_id) VALUES(\"AMOXICILLIN\", \"PO\", 3, \"500mg\", 1);\n",
    "INSERT INTO drug_table (medication, route, \"freq per day\", dose, patient_id) VALUES(\"IRBESARTAN\", \"PO\", 1, \"150mg\", 2);\n",
    "INSERT INTO drug_table (medication, route, \"freq per day\", dose, patient_id) VALUES(\"DIGOXIN\", \"PO\", 1, \"1.5mg\", 2);\n",
    "INSERT INTO drug_table (medication, route, \"freq per day\", dose, patient_id) VALUES(\"SIMVASTATIN\", \"PO\", 1, \"40mg\", 3);\n",
    "INSERT INTO drug_table (medication, route, \"freq per day\", dose, patient_id) VALUES(\"RAMIPRIL\", \"PO\", 1, \"2.5mg\", 4);\n",
    "INSERT INTO drug_table (medication, route, \"freq per day\", dose, patient_id) VALUES(\"WARFARIN\", \"PO\", 1, \"variable\", 4);\n",
    "INSERT INTO drug_table (medication, route, \"freq per day\", dose, patient_id) VALUES(\"SENNA\", \"PO\", 1, \"15mg\", 4);\n",
    "INSERT INTO drug_table (medication, route, \"freq per day\", dose, patient_id) VALUES(\"None\", \"NA\", 0, \"NA\", 5);\n",
    "\n",
    "INSERT INTO medical_history (condition, date_diagnosed, patient_id) VALUES(\"LRTI\", \"2019-10-18 00:00:00\", 1);\n",
    "INSERT INTO medical_history (condition, date_diagnosed, patient_id) VALUES(\"Appendectomy\", \"2004-11-05 00:00:00\", 1);\n",
    "INSERT INTO medical_history (condition, date_diagnosed, patient_id) VALUES(\"Hypertension\", \"2003-12-12 00:00:00\", 2);\n",
    "INSERT INTO medical_history (condition, date_diagnosed, patient_id) VALUES(\"Atrial fibrillation\", \"2003-12-12 00:00:00\", 2);\n",
    "INSERT INTO medical_history (condition, date_diagnosed, patient_id) VALUES(\"#NOF\", \"1992-07-06 00:00:00\", 2);\n",
    "INSERT INTO medical_history (condition, date_diagnosed, patient_id) VALUES(\"Otitis media\", \"1990-10-18 00:00:00\", 2);\n",
    "INSERT INTO medical_history (condition, date_diagnosed, patient_id) VALUES(\"Pulmonary embolism\", \"1987-03-12 00:00:00\", 2);\n",
    "INSERT INTO medical_history (condition, date_diagnosed, patient_id) VALUES(\"Hypercholesterolemia\", \"2018-04-02 00:00:00\", 3);\n",
    "INSERT INTO medical_history (condition, date_diagnosed, patient_id) VALUES(\"Gonorrhea\", \"2012-06-14 00:00:00\", 3);\n",
    "INSERT INTO medical_history (condition, date_diagnosed, patient_id) VALUES(\"RTC\", \"1994-12-16 00:00:00\", 3);\n",
    "INSERT INTO medical_history (condition, date_diagnosed, patient_id) VALUES(\"Hypertension\", \"2019-08-01 00:00:00\", 4);\n",
    "INSERT INTO medical_history (condition, date_diagnosed, patient_id) VALUES(\"Constipation\", \"2019-04-12 00:00:00\", 4);\n",
    "INSERT INTO medical_history (condition, date_diagnosed, patient_id) VALUES(\"Atrial fibrillation\", \"2017-05-03 00:00:00\", 4);\n",
    "INSERT INTO medical_history (condition, date_diagnosed, patient_id) VALUES(\"CVA\", \"2016-12-16 00:00:00\", 4);\n",
    "INSERT INTO medical_history (condition, date_diagnosed, patient_id) VALUES(\"MI\", \"2014-12-12 00:00:00\", 4);\n",
    "INSERT INTO medical_history (condition, date_diagnosed, patient_id) VALUES(\"PCOS\", \"2016-06-08 00:00:00\", 5);"
   ]
  },
  {
   "cell_type": "code",
   "execution_count": 68,
   "metadata": {},
   "outputs": [
    {
     "name": "stdout",
     "output_type": "stream",
     "text": [
      " * sqlite://\n",
      "Done.\n"
     ]
    },
    {
     "data": {
      "text/html": [
       "<table>\n",
       "    <tr>\n",
       "        <th>ID</th>\n",
       "        <th>Name</th>\n",
       "        <th>Age</th>\n",
       "        <th>Sex</th>\n",
       "        <th>sys</th>\n",
       "        <th>dia</th>\n",
       "        <th>Heart rate</th>\n",
       "    </tr>\n",
       "    <tr>\n",
       "        <td>1</td>\n",
       "        <td>Alan Smith</td>\n",
       "        <td>24</td>\n",
       "        <td>M</td>\n",
       "        <td>120</td>\n",
       "        <td>70</td>\n",
       "        <td>78</td>\n",
       "    </tr>\n",
       "    <tr>\n",
       "        <td>2</td>\n",
       "        <td>Maureen Gdiver</td>\n",
       "        <td>87</td>\n",
       "        <td>F</td>\n",
       "        <td>156</td>\n",
       "        <td>82</td>\n",
       "        <td>101</td>\n",
       "    </tr>\n",
       "    <tr>\n",
       "        <td>3</td>\n",
       "        <td>Adam Blythe</td>\n",
       "        <td>54</td>\n",
       "        <td>M</td>\n",
       "        <td>132</td>\n",
       "        <td>73</td>\n",
       "        <td>72</td>\n",
       "    </tr>\n",
       "    <tr>\n",
       "        <td>4</td>\n",
       "        <td>Darren Sanders</td>\n",
       "        <td>34</td>\n",
       "        <td>M</td>\n",
       "        <td>155</td>\n",
       "        <td>67</td>\n",
       "        <td>120</td>\n",
       "    </tr>\n",
       "    <tr>\n",
       "        <td>5</td>\n",
       "        <td>Sally-Ann Joyce</td>\n",
       "        <td>19</td>\n",
       "        <td>F</td>\n",
       "        <td>121</td>\n",
       "        <td>72</td>\n",
       "        <td>65</td>\n",
       "    </tr>\n",
       "</table>"
      ],
      "text/plain": [
       "[(1, 'Alan Smith', 24, 'M', 120, 70, 78),\n",
       " (2, 'Maureen Gdiver', 87, 'F', 156, 82, 101),\n",
       " (3, 'Adam Blythe', 54, 'M', 132, 73, 72),\n",
       " (4, 'Darren Sanders', 34, 'M', 155, 67, 120),\n",
       " (5, 'Sally-Ann Joyce', 19, 'F', 121, 72, 65)]"
      ]
     },
     "execution_count": 68,
     "metadata": {},
     "output_type": "execute_result"
    }
   ],
   "source": [
    "%%sql\n",
    "SELECT * FROM med_data;"
   ]
  },
  {
   "cell_type": "code",
   "execution_count": 45,
   "metadata": {},
   "outputs": [
    {
     "name": "stdout",
     "output_type": "stream",
     "text": [
      " * sqlite://\n",
      "Done.\n"
     ]
    },
    {
     "data": {
      "text/html": [
       "<table>\n",
       "    <tr>\n",
       "        <th>ID</th>\n",
       "        <th>medication</th>\n",
       "        <th>route</th>\n",
       "        <th>freq per day</th>\n",
       "        <th>dose</th>\n",
       "        <th>patient_id</th>\n",
       "    </tr>\n",
       "    <tr>\n",
       "        <td>1</td>\n",
       "        <td>AMOXICILLIN</td>\n",
       "        <td>PO</td>\n",
       "        <td>3</td>\n",
       "        <td>500mg</td>\n",
       "        <td>1</td>\n",
       "    </tr>\n",
       "    <tr>\n",
       "        <td>2</td>\n",
       "        <td>IRBESARTAN</td>\n",
       "        <td>PO</td>\n",
       "        <td>1</td>\n",
       "        <td>150mg</td>\n",
       "        <td>2</td>\n",
       "    </tr>\n",
       "    <tr>\n",
       "        <td>3</td>\n",
       "        <td>DIGOXIN</td>\n",
       "        <td>PO</td>\n",
       "        <td>1</td>\n",
       "        <td>1.5mg</td>\n",
       "        <td>2</td>\n",
       "    </tr>\n",
       "    <tr>\n",
       "        <td>4</td>\n",
       "        <td>SIMVASTATIN</td>\n",
       "        <td>PO</td>\n",
       "        <td>1</td>\n",
       "        <td>40mg</td>\n",
       "        <td>3</td>\n",
       "    </tr>\n",
       "    <tr>\n",
       "        <td>5</td>\n",
       "        <td>RAMIPRIL</td>\n",
       "        <td>PO</td>\n",
       "        <td>1</td>\n",
       "        <td>2.5mg</td>\n",
       "        <td>4</td>\n",
       "    </tr>\n",
       "    <tr>\n",
       "        <td>6</td>\n",
       "        <td>WARFARIN</td>\n",
       "        <td>PO</td>\n",
       "        <td>1</td>\n",
       "        <td>variable</td>\n",
       "        <td>4</td>\n",
       "    </tr>\n",
       "    <tr>\n",
       "        <td>7</td>\n",
       "        <td>SENNA</td>\n",
       "        <td>PO</td>\n",
       "        <td>1</td>\n",
       "        <td>15mg</td>\n",
       "        <td>4</td>\n",
       "    </tr>\n",
       "    <tr>\n",
       "        <td>8</td>\n",
       "        <td>None</td>\n",
       "        <td>NA</td>\n",
       "        <td>0</td>\n",
       "        <td>NA</td>\n",
       "        <td>5</td>\n",
       "    </tr>\n",
       "</table>"
      ],
      "text/plain": [
       "[(1, 'AMOXICILLIN', 'PO', 3, '500mg', 1),\n",
       " (2, 'IRBESARTAN', 'PO', 1, '150mg', 2),\n",
       " (3, 'DIGOXIN', 'PO', 1, '1.5mg', 2),\n",
       " (4, 'SIMVASTATIN', 'PO', 1, '40mg', 3),\n",
       " (5, 'RAMIPRIL', 'PO', 1, '2.5mg', 4),\n",
       " (6, 'WARFARIN', 'PO', 1, 'variable', 4),\n",
       " (7, 'SENNA', 'PO', 1, '15mg', 4),\n",
       " (8, 'None', 'NA', 0, 'NA', 5)]"
      ]
     },
     "execution_count": 45,
     "metadata": {},
     "output_type": "execute_result"
    }
   ],
   "source": [
    "%%sql\n",
    "SELECT * FROM drug_table;"
   ]
  },
  {
   "cell_type": "code",
   "execution_count": 46,
   "metadata": {},
   "outputs": [
    {
     "name": "stdout",
     "output_type": "stream",
     "text": [
      " * sqlite://\n",
      "Done.\n"
     ]
    },
    {
     "data": {
      "text/html": [
       "<table>\n",
       "    <tr>\n",
       "        <th>ID</th>\n",
       "        <th>condition</th>\n",
       "        <th>date_diagnosed</th>\n",
       "        <th>patient_id</th>\n",
       "    </tr>\n",
       "    <tr>\n",
       "        <td>1</td>\n",
       "        <td>LRTI</td>\n",
       "        <td>2019-10-18 00:00:00</td>\n",
       "        <td>1</td>\n",
       "    </tr>\n",
       "    <tr>\n",
       "        <td>2</td>\n",
       "        <td>Appendectomy</td>\n",
       "        <td>2004-11-05 00:00:00</td>\n",
       "        <td>1</td>\n",
       "    </tr>\n",
       "    <tr>\n",
       "        <td>3</td>\n",
       "        <td>Hypertension</td>\n",
       "        <td>2003-12-12 00:00:00</td>\n",
       "        <td>2</td>\n",
       "    </tr>\n",
       "    <tr>\n",
       "        <td>4</td>\n",
       "        <td>Atrial fibrillation</td>\n",
       "        <td>2003-12-12 00:00:00</td>\n",
       "        <td>2</td>\n",
       "    </tr>\n",
       "    <tr>\n",
       "        <td>5</td>\n",
       "        <td>#NOF</td>\n",
       "        <td>1992-07-06 00:00:00</td>\n",
       "        <td>2</td>\n",
       "    </tr>\n",
       "    <tr>\n",
       "        <td>6</td>\n",
       "        <td>Otitis media</td>\n",
       "        <td>1990-10-18 00:00:00</td>\n",
       "        <td>2</td>\n",
       "    </tr>\n",
       "    <tr>\n",
       "        <td>7</td>\n",
       "        <td>Pulmonary embolism</td>\n",
       "        <td>1987-03-12 00:00:00</td>\n",
       "        <td>2</td>\n",
       "    </tr>\n",
       "    <tr>\n",
       "        <td>8</td>\n",
       "        <td>Hypercholesterolemia</td>\n",
       "        <td>2018-04-02 00:00:00</td>\n",
       "        <td>3</td>\n",
       "    </tr>\n",
       "    <tr>\n",
       "        <td>9</td>\n",
       "        <td>Gonorrhea</td>\n",
       "        <td>2012-06-14 00:00:00</td>\n",
       "        <td>3</td>\n",
       "    </tr>\n",
       "    <tr>\n",
       "        <td>10</td>\n",
       "        <td>RTC</td>\n",
       "        <td>1994-12-16 00:00:00</td>\n",
       "        <td>3</td>\n",
       "    </tr>\n",
       "    <tr>\n",
       "        <td>11</td>\n",
       "        <td>Hypertension</td>\n",
       "        <td>2019-08-01 00:00:00</td>\n",
       "        <td>4</td>\n",
       "    </tr>\n",
       "    <tr>\n",
       "        <td>12</td>\n",
       "        <td>Constipation</td>\n",
       "        <td>2019-04-12 00:00:00</td>\n",
       "        <td>4</td>\n",
       "    </tr>\n",
       "    <tr>\n",
       "        <td>13</td>\n",
       "        <td>Atrial fibrillation</td>\n",
       "        <td>2017-05-03 00:00:00</td>\n",
       "        <td>4</td>\n",
       "    </tr>\n",
       "    <tr>\n",
       "        <td>14</td>\n",
       "        <td>CVA</td>\n",
       "        <td>2016-12-16 00:00:00</td>\n",
       "        <td>4</td>\n",
       "    </tr>\n",
       "    <tr>\n",
       "        <td>15</td>\n",
       "        <td>MI</td>\n",
       "        <td>2014-12-12 00:00:00</td>\n",
       "        <td>4</td>\n",
       "    </tr>\n",
       "    <tr>\n",
       "        <td>16</td>\n",
       "        <td>PCOS</td>\n",
       "        <td>2016-06-08 00:00:00</td>\n",
       "        <td>5</td>\n",
       "    </tr>\n",
       "</table>"
      ],
      "text/plain": [
       "[(1, 'LRTI', '2019-10-18 00:00:00', 1),\n",
       " (2, 'Appendectomy', '2004-11-05 00:00:00', 1),\n",
       " (3, 'Hypertension', '2003-12-12 00:00:00', 2),\n",
       " (4, 'Atrial fibrillation', '2003-12-12 00:00:00', 2),\n",
       " (5, '#NOF', '1992-07-06 00:00:00', 2),\n",
       " (6, 'Otitis media', '1990-10-18 00:00:00', 2),\n",
       " (7, 'Pulmonary embolism', '1987-03-12 00:00:00', 2),\n",
       " (8, 'Hypercholesterolemia', '2018-04-02 00:00:00', 3),\n",
       " (9, 'Gonorrhea', '2012-06-14 00:00:00', 3),\n",
       " (10, 'RTC', '1994-12-16 00:00:00', 3),\n",
       " (11, 'Hypertension', '2019-08-01 00:00:00', 4),\n",
       " (12, 'Constipation', '2019-04-12 00:00:00', 4),\n",
       " (13, 'Atrial fibrillation', '2017-05-03 00:00:00', 4),\n",
       " (14, 'CVA', '2016-12-16 00:00:00', 4),\n",
       " (15, 'MI', '2014-12-12 00:00:00', 4),\n",
       " (16, 'PCOS', '2016-06-08 00:00:00', 5)]"
      ]
     },
     "execution_count": 46,
     "metadata": {},
     "output_type": "execute_result"
    }
   ],
   "source": [
    "%%sql\n",
    "SELECT * FROM medical_history;"
   ]
  },
  {
   "cell_type": "markdown",
   "metadata": {
    "solution2": "hidden",
    "solution2_first": true
   },
   "source": [
    "<div class=\"alert alert-block alert-info\">\n",
    "<b>Task 1:</b>\n",
    "<br> \n",
    "We have added some conditions. For example <code>#NOF</code>. The hash is often used to denote a fracture (break) and NOF stands for neck of femur. So this is a broken hip. Given that there are actually many different different ways to refer to these conditions (CVA = cerebrovascular accident (stroke), PCOS = polycystic ovary syndrome, LRTI = lower respiratory track infection, ...). Can you see any problems with representing this data like this, and if so what solutions could be applied?\n",
    "</div>"
   ]
  },
  {
   "cell_type": "markdown",
   "metadata": {
    "solution2": "hidden"
   },
   "source": [
    "As conditions can be referred to in a multitude of different ways, it can be very hard to extract such data. If we wanted to query type II diabetes, what would we search for (e.g. NIDDM, DM type II, type 2 etc.)? Representing information like this in electronic patient records is challenging. A simple solution would be to have another column with a more detailed textual description of the condition. A better solution to improve interoperability is to use a recognised clinical coding standard, such as: Read codes, ICD-10, SNOMED, etc). These allow a common representation of conditions, and procedures using a standard coding system. Of course the data we are using here is try out the features of SQL rather than to produce a sensible, well designed patient record system. "
   ]
  },
  {
   "cell_type": "code",
   "execution_count": null,
   "metadata": {
    "collapsed": true
   },
   "outputs": [],
   "source": []
  },
  {
   "cell_type": "markdown",
   "metadata": {},
   "source": [
    "#### 4.1 Joins"
   ]
  },
  {
   "cell_type": "markdown",
   "metadata": {},
   "source": [
    "We saw an example in the last notebook of using joins to combine data from our <code>med_data</code> and <code>drug_table</code> tables. We used the <code>patient_id</code> in the <code>drug_table</code> to connect to the <code>id</code> column in the <code>med_data</code> table and return information where the systolic blood pressure was greater than 140 mmHg. "
   ]
  },
  {
   "cell_type": "code",
   "execution_count": 14,
   "metadata": {},
   "outputs": [
    {
     "name": "stdout",
     "output_type": "stream",
     "text": [
      " * sqlite://\n",
      "Done.\n"
     ]
    },
    {
     "data": {
      "text/html": [
       "<table>\n",
       "    <tr>\n",
       "        <th>Name</th>\n",
       "        <th>sys</th>\n",
       "        <th>medication</th>\n",
       "    </tr>\n",
       "    <tr>\n",
       "        <td>Maureen Gdiver</td>\n",
       "        <td>156</td>\n",
       "        <td>IRBESARTAN</td>\n",
       "    </tr>\n",
       "    <tr>\n",
       "        <td>Maureen Gdiver</td>\n",
       "        <td>156</td>\n",
       "        <td>DIGOXIN</td>\n",
       "    </tr>\n",
       "    <tr>\n",
       "        <td>Darren Sanders</td>\n",
       "        <td>155</td>\n",
       "        <td>RAMIPRIL</td>\n",
       "    </tr>\n",
       "    <tr>\n",
       "        <td>Darren Sanders</td>\n",
       "        <td>155</td>\n",
       "        <td>WARFARIN</td>\n",
       "    </tr>\n",
       "    <tr>\n",
       "        <td>Darren Sanders</td>\n",
       "        <td>155</td>\n",
       "        <td>SENNA</td>\n",
       "    </tr>\n",
       "</table>"
      ],
      "text/plain": [
       "[('Maureen Gdiver', 156, 'IRBESARTAN'),\n",
       " ('Maureen Gdiver', 156, 'DIGOXIN'),\n",
       " ('Darren Sanders', 155, 'RAMIPRIL'),\n",
       " ('Darren Sanders', 155, 'WARFARIN'),\n",
       " ('Darren Sanders', 155, 'SENNA')]"
      ]
     },
     "execution_count": 14,
     "metadata": {},
     "output_type": "execute_result"
    }
   ],
   "source": [
    "%%sql \n",
    "SELECT Name, sys, medication FROM med_data \n",
    "INNER JOIN drug_table ON drug_table.patient_id = med_data.Id \n",
    "WHERE med_data.sys > 140;"
   ]
  },
  {
   "cell_type": "markdown",
   "metadata": {
    "solution2": "hidden",
    "solution2_first": true
   },
   "source": [
    "<div class=\"alert alert-block alert-info\">\n",
    "<b>Task 2:</b>\n",
    "<br> \n",
    "Using the <code>medical_history</code> table. Modify the query above to return the same information this time with the condition when they also have a medical history of <code>hypertension</code>. Hint: the query is case sensitive, so remember to use a capital letter for Hypertension. Also you will need to add another <code>INNER JOIN</code> command. \n",
    "</div>"
   ]
  },
  {
   "cell_type": "code",
   "execution_count": 18,
   "metadata": {
    "solution2": "hidden"
   },
   "outputs": [
    {
     "name": "stdout",
     "output_type": "stream",
     "text": [
      " * sqlite://\n",
      "Done.\n"
     ]
    },
    {
     "data": {
      "text/html": [
       "<table>\n",
       "    <tr>\n",
       "        <th>Name</th>\n",
       "        <th>sys</th>\n",
       "        <th>medication</th>\n",
       "        <th>condition</th>\n",
       "    </tr>\n",
       "    <tr>\n",
       "        <td>Maureen Gdiver</td>\n",
       "        <td>156</td>\n",
       "        <td>DIGOXIN</td>\n",
       "        <td>Hypertension</td>\n",
       "    </tr>\n",
       "    <tr>\n",
       "        <td>Maureen Gdiver</td>\n",
       "        <td>156</td>\n",
       "        <td>IRBESARTAN</td>\n",
       "        <td>Hypertension</td>\n",
       "    </tr>\n",
       "    <tr>\n",
       "        <td>Darren Sanders</td>\n",
       "        <td>155</td>\n",
       "        <td>RAMIPRIL</td>\n",
       "        <td>Hypertension</td>\n",
       "    </tr>\n",
       "    <tr>\n",
       "        <td>Darren Sanders</td>\n",
       "        <td>155</td>\n",
       "        <td>SENNA</td>\n",
       "        <td>Hypertension</td>\n",
       "    </tr>\n",
       "    <tr>\n",
       "        <td>Darren Sanders</td>\n",
       "        <td>155</td>\n",
       "        <td>WARFARIN</td>\n",
       "        <td>Hypertension</td>\n",
       "    </tr>\n",
       "</table>"
      ],
      "text/plain": [
       "[('Maureen Gdiver', 156, 'DIGOXIN', 'Hypertension'),\n",
       " ('Maureen Gdiver', 156, 'IRBESARTAN', 'Hypertension'),\n",
       " ('Darren Sanders', 155, 'RAMIPRIL', 'Hypertension'),\n",
       " ('Darren Sanders', 155, 'SENNA', 'Hypertension'),\n",
       " ('Darren Sanders', 155, 'WARFARIN', 'Hypertension')]"
      ]
     },
     "execution_count": 18,
     "metadata": {},
     "output_type": "execute_result"
    }
   ],
   "source": [
    "%%sql \n",
    "SELECT Name, sys, medication, condition FROM med_data \n",
    "INNER JOIN drug_table ON drug_table.patient_id = med_data.Id \n",
    "INNER JOIN medical_history ON medical_history.patient_id = med_data.Id\n",
    "WHERE med_data.sys > 140 AND condition = \"Hypertension\";"
   ]
  },
  {
   "cell_type": "code",
   "execution_count": null,
   "metadata": {
    "collapsed": true
   },
   "outputs": [],
   "source": [
    "%%sql # type in your code below\n"
   ]
  },
  {
   "cell_type": "markdown",
   "metadata": {},
   "source": [
    "We could modify this further to only include results for antihypertensive drugs only, if we wanted to check they had hypertension in the their past medical history, currently were hypertensive and are taking appropriate treatment for their condition."
   ]
  },
  {
   "cell_type": "code",
   "execution_count": 22,
   "metadata": {},
   "outputs": [
    {
     "name": "stdout",
     "output_type": "stream",
     "text": [
      " * sqlite://\n",
      "Done.\n"
     ]
    },
    {
     "data": {
      "text/html": [
       "<table>\n",
       "    <tr>\n",
       "        <th>Name</th>\n",
       "        <th>sys</th>\n",
       "        <th>medication</th>\n",
       "        <th>condition</th>\n",
       "    </tr>\n",
       "    <tr>\n",
       "        <td>Maureen Gdiver</td>\n",
       "        <td>156</td>\n",
       "        <td>IRBESARTAN</td>\n",
       "        <td>Hypertension</td>\n",
       "    </tr>\n",
       "    <tr>\n",
       "        <td>Darren Sanders</td>\n",
       "        <td>155</td>\n",
       "        <td>RAMIPRIL</td>\n",
       "        <td>Hypertension</td>\n",
       "    </tr>\n",
       "</table>"
      ],
      "text/plain": [
       "[('Maureen Gdiver', 156, 'IRBESARTAN', 'Hypertension'),\n",
       " ('Darren Sanders', 155, 'RAMIPRIL', 'Hypertension')]"
      ]
     },
     "execution_count": 22,
     "metadata": {},
     "output_type": "execute_result"
    }
   ],
   "source": [
    "%%sql \n",
    "SELECT Name, sys, medication, condition FROM med_data \n",
    "INNER JOIN drug_table ON drug_table.patient_id = med_data.Id \n",
    "INNER JOIN medical_history ON medical_history.patient_id = med_data.Id\n",
    "WHERE med_data.sys > 140 AND condition = \"Hypertension\" AND drug_table.medication IN (\"IRBESARTAN\", \"RAMIPRIL\");"
   ]
  },
  {
   "cell_type": "markdown",
   "metadata": {},
   "source": [
    "<div class=\"alert alert-success\">\n",
    "<b>Note:</b> If we are not sure exactly how something maybe written, we can use the <code>LIKE</code> keyword to look for something similar i.e. <code>condition LIKE \"%tension\"</code>. This would get us anything ending in tension.\n",
    "</div>"
   ]
  },
  {
   "cell_type": "markdown",
   "metadata": {
    "solution2": "hidden",
    "solution2_first": true
   },
   "source": [
    "<div class=\"alert alert-block alert-info\">\n",
    "<b>Task 3:</b>\n",
    "<br> \n",
    "Having looked at a few <code>JOIN</code> statements, can you see any potential issues with this? \n",
    "</div>"
   ]
  },
  {
   "cell_type": "markdown",
   "metadata": {
    "solution2": "hidden"
   },
   "source": [
    "So one of the issues with joining data is that depending on the number of tables and data you want to return, you could end up with some very complex SQL join statements. This is one of the advantages of <code>NoSQL</code> alternatives like <code>MongoDB</code> where data can be nested and thus avoids the need for complex joins. Have a look at some of the differences between relational database and NoSQL database types here: <a href=\"https://www.mongodb.com/nosql-explained\" target=\"_blank\">NoSQL Databases</a>."
   ]
  },
  {
   "cell_type": "code",
   "execution_count": null,
   "metadata": {
    "collapsed": true
   },
   "outputs": [],
   "source": []
  },
  {
   "cell_type": "markdown",
   "metadata": {},
   "source": [
    "There are different types of joins that can be used depending on the requirements (note that not all versions of SQL support all types of join). Joins include (where A and B are different tables):"
   ]
  },
  {
   "cell_type": "markdown",
   "metadata": {},
   "source": [
    "<img src=\"./intro_images/dbjoins.png\" width=\"100%\" />"
   ]
  },
  {
   "cell_type": "markdown",
   "metadata": {},
   "source": [
    "<ul>\n",
    "<li><code>Inner</code>: Records with matches in both A and B</li> \n",
    "<li><code>Left</code>: All records in A and any matches from B</li>\n",
    "<li><code>Right</code>: All records in B and any matches from A</li>\n",
    "<li><code>Full</code>: All records with match in either A or B</li>\n",
    "</ul>"
   ]
  },
  {
   "cell_type": "markdown",
   "metadata": {},
   "source": [
    "<div class=\"alert alert-success\">\n",
    "<b>Note:</b> <code>SQLite</code> does not support right (right outer join) or full (full outer join).\n",
    "</div>"
   ]
  },
  {
   "cell_type": "markdown",
   "metadata": {},
   "source": [
    "Another example is to look at all the patients that had a diagnosis in and after the year 2018."
   ]
  },
  {
   "cell_type": "code",
   "execution_count": 57,
   "metadata": {},
   "outputs": [
    {
     "name": "stdout",
     "output_type": "stream",
     "text": [
      " * sqlite://\n",
      "Done.\n"
     ]
    },
    {
     "data": {
      "text/html": [
       "<table>\n",
       "    <tr>\n",
       "        <th>Name</th>\n",
       "        <th>date_diagnosed</th>\n",
       "    </tr>\n",
       "    <tr>\n",
       "        <td>Alan Smith</td>\n",
       "        <td>2019-10-18 00:00:00</td>\n",
       "    </tr>\n",
       "    <tr>\n",
       "        <td>Adam Blythe</td>\n",
       "        <td>2018-04-02 00:00:00</td>\n",
       "    </tr>\n",
       "    <tr>\n",
       "        <td>Darren Sanders</td>\n",
       "        <td>2019-08-01 00:00:00</td>\n",
       "    </tr>\n",
       "    <tr>\n",
       "        <td>Darren Sanders</td>\n",
       "        <td>2019-04-12 00:00:00</td>\n",
       "    </tr>\n",
       "</table>"
      ],
      "text/plain": [
       "[('Alan Smith', '2019-10-18 00:00:00'),\n",
       " ('Adam Blythe', '2018-04-02 00:00:00'),\n",
       " ('Darren Sanders', '2019-08-01 00:00:00'),\n",
       " ('Darren Sanders', '2019-04-12 00:00:00')]"
      ]
     },
     "execution_count": 57,
     "metadata": {},
     "output_type": "execute_result"
    }
   ],
   "source": [
    "%%sql \n",
    "SELECT Name, date_diagnosed FROM med_data \n",
    "INNER JOIN medical_history ON medical_history.patient_id = med_data.Id\n",
    "WHERE medical_history.date_diagnosed > \"2018-01-01 00:00:00\";"
   ]
  },
  {
   "cell_type": "markdown",
   "metadata": {
    "solution2": "hidden",
    "solution2_first": true
   },
   "source": [
    "<div class=\"alert alert-block alert-info\">\n",
    "<b>Task 4:</b>\n",
    "<br> \n",
    "1. Adapt the above to return the patients that received a diagnosis between (and including) the years 1990 and 2017.<br />\n",
    "2. Use the <code>ORDER BY</code> command to order the results by date diagnosed.\n",
    "</div>"
   ]
  },
  {
   "cell_type": "code",
   "execution_count": 59,
   "metadata": {
    "solution2": "hidden"
   },
   "outputs": [
    {
     "name": "stdout",
     "output_type": "stream",
     "text": [
      " * sqlite://\n",
      "Done.\n"
     ]
    },
    {
     "data": {
      "text/html": [
       "<table>\n",
       "    <tr>\n",
       "        <th>Name</th>\n",
       "        <th>date_diagnosed</th>\n",
       "    </tr>\n",
       "    <tr>\n",
       "        <td>Maureen Gdiver</td>\n",
       "        <td>1990-10-18 00:00:00</td>\n",
       "    </tr>\n",
       "    <tr>\n",
       "        <td>Maureen Gdiver</td>\n",
       "        <td>1992-07-06 00:00:00</td>\n",
       "    </tr>\n",
       "    <tr>\n",
       "        <td>Adam Blythe</td>\n",
       "        <td>1994-12-16 00:00:00</td>\n",
       "    </tr>\n",
       "    <tr>\n",
       "        <td>Maureen Gdiver</td>\n",
       "        <td>2003-12-12 00:00:00</td>\n",
       "    </tr>\n",
       "    <tr>\n",
       "        <td>Maureen Gdiver</td>\n",
       "        <td>2003-12-12 00:00:00</td>\n",
       "    </tr>\n",
       "    <tr>\n",
       "        <td>Alan Smith</td>\n",
       "        <td>2004-11-05 00:00:00</td>\n",
       "    </tr>\n",
       "    <tr>\n",
       "        <td>Adam Blythe</td>\n",
       "        <td>2012-06-14 00:00:00</td>\n",
       "    </tr>\n",
       "    <tr>\n",
       "        <td>Darren Sanders</td>\n",
       "        <td>2014-12-12 00:00:00</td>\n",
       "    </tr>\n",
       "    <tr>\n",
       "        <td>Sally-Ann Joyce</td>\n",
       "        <td>2016-06-08 00:00:00</td>\n",
       "    </tr>\n",
       "    <tr>\n",
       "        <td>Darren Sanders</td>\n",
       "        <td>2016-12-16 00:00:00</td>\n",
       "    </tr>\n",
       "</table>"
      ],
      "text/plain": [
       "[('Maureen Gdiver', '1990-10-18 00:00:00'),\n",
       " ('Maureen Gdiver', '1992-07-06 00:00:00'),\n",
       " ('Adam Blythe', '1994-12-16 00:00:00'),\n",
       " ('Maureen Gdiver', '2003-12-12 00:00:00'),\n",
       " ('Maureen Gdiver', '2003-12-12 00:00:00'),\n",
       " ('Alan Smith', '2004-11-05 00:00:00'),\n",
       " ('Adam Blythe', '2012-06-14 00:00:00'),\n",
       " ('Darren Sanders', '2014-12-12 00:00:00'),\n",
       " ('Sally-Ann Joyce', '2016-06-08 00:00:00'),\n",
       " ('Darren Sanders', '2016-12-16 00:00:00')]"
      ]
     },
     "execution_count": 59,
     "metadata": {},
     "output_type": "execute_result"
    }
   ],
   "source": [
    "%%sql \n",
    "SELECT Name, date_diagnosed FROM med_data \n",
    "INNER JOIN medical_history ON medical_history.patient_id = med_data.Id\n",
    "WHERE medical_history.date_diagnosed >= \"1990-01-01 00:00:00\" AND medical_history.date_diagnosed <= \"2017-01-01 00:00:00\" \n",
    "ORDER BY medical_history.date_diagnosed;"
   ]
  },
  {
   "cell_type": "code",
   "execution_count": null,
   "metadata": {
    "collapsed": true
   },
   "outputs": [],
   "source": [
    "%%sql # type in your code below\n"
   ]
  },
  {
   "cell_type": "markdown",
   "metadata": {},
   "source": [
    "#### 4.2 Unions"
   ]
  },
  {
   "cell_type": "markdown",
   "metadata": {},
   "source": [
    "So we have seen how to combine data with joins. Another way of doing this is with a <code>union</code>. You can think of it as a way of placing tables on top of one another. For this to work the two tables need the same number of columns and the columns need to be of the same/similar types. This could be used to combine data from different sources. So lets say we had these 2 tables of admission data from two hospitals with the same number of columns."
   ]
  },
  {
   "cell_type": "code",
   "execution_count": 60,
   "metadata": {},
   "outputs": [
    {
     "name": "stdout",
     "output_type": "stream",
     "text": [
      " * sqlite://\n",
      "Done.\n",
      "Done.\n",
      "Done.\n",
      "Done.\n",
      "1 rows affected.\n",
      "1 rows affected.\n",
      "1 rows affected.\n",
      "1 rows affected.\n",
      "1 rows affected.\n",
      "1 rows affected.\n",
      "1 rows affected.\n"
     ]
    },
    {
     "data": {
      "text/plain": [
       "[]"
      ]
     },
     "execution_count": 60,
     "metadata": {},
     "output_type": "execute_result"
    }
   ],
   "source": [
    "%%sql\n",
    "DROP TABLE IF EXISTS admin_data_hospital_one;\n",
    "CREATE TABLE admin_data_hospital_one (\n",
    "    ID INTEGER NOT NULL PRIMARY KEY,\n",
    "    Name VARCHAR(255),\n",
    "    hospital_number VARCHAR(8),\n",
    "    Age INTEGER,\n",
    "    Sex CHAR\n",
    ");\n",
    "\n",
    "DROP TABLE IF EXISTS admin_data_hospital_two;\n",
    "CREATE TABLE admin_data_hospital_two (\n",
    "    ID INTEGER NOT NULL PRIMARY KEY,\n",
    "    patient_name VARCHAR(255),\n",
    "    hospital_number VARCHAR(8),\n",
    "    Age INTEGER,\n",
    "    Sex CHAR\n",
    ");\n",
    "\n",
    "INSERT INTO admin_data_hospital_one (Name, hospital_number, Age, Sex) VALUES(\"Alan Smith\", \"342432\", 34, \"M\");\n",
    "INSERT INTO admin_data_hospital_one (Name, hospital_number, Age, Sex) VALUES(\"Paul Jones\", \"643334\", 54, \"M\");\n",
    "INSERT INTO admin_data_hospital_one (Name, hospital_number, Age, Sex) VALUES(\"Mohamed Aziz\", \"322432\", 64, \"M\");\n",
    "\n",
    "INSERT INTO admin_data_hospital_two (patient_name, hospital_number, Age, Sex) VALUES(\"Jane Smith\", \"544543\", 88, \"F\");\n",
    "INSERT INTO admin_data_hospital_two (patient_name, hospital_number, Age, Sex) VALUES(\"Allen Daniels\", \"435433\", 78, \"M\");\n",
    "INSERT INTO admin_data_hospital_two (patient_name, hospital_number, Age, Sex) VALUES(\"Sandra Jones\", \"4534534\", 44, \"F\");\n",
    "INSERT INTO admin_data_hospital_two (patient_name, hospital_number, Age, Sex) VALUES(\"Jan Golas\", \"3434534\", 62, \"M\");"
   ]
  },
  {
   "cell_type": "code",
   "execution_count": 63,
   "metadata": {},
   "outputs": [
    {
     "name": "stdout",
     "output_type": "stream",
     "text": [
      " * sqlite://\n",
      "Done.\n"
     ]
    },
    {
     "data": {
      "text/html": [
       "<table>\n",
       "    <tr>\n",
       "        <th>ID</th>\n",
       "        <th>Name</th>\n",
       "        <th>hospital_number</th>\n",
       "        <th>Age</th>\n",
       "        <th>Sex</th>\n",
       "    </tr>\n",
       "    <tr>\n",
       "        <td>1</td>\n",
       "        <td>Alan Smith</td>\n",
       "        <td>342432</td>\n",
       "        <td>34</td>\n",
       "        <td>M</td>\n",
       "    </tr>\n",
       "    <tr>\n",
       "        <td>2</td>\n",
       "        <td>Paul Jones</td>\n",
       "        <td>643334</td>\n",
       "        <td>54</td>\n",
       "        <td>M</td>\n",
       "    </tr>\n",
       "    <tr>\n",
       "        <td>3</td>\n",
       "        <td>Mohamed Aziz</td>\n",
       "        <td>322432</td>\n",
       "        <td>64</td>\n",
       "        <td>M</td>\n",
       "    </tr>\n",
       "</table>"
      ],
      "text/plain": [
       "[(1, 'Alan Smith', '342432', 34, 'M'),\n",
       " (2, 'Paul Jones', '643334', 54, 'M'),\n",
       " (3, 'Mohamed Aziz', '322432', 64, 'M')]"
      ]
     },
     "execution_count": 63,
     "metadata": {},
     "output_type": "execute_result"
    }
   ],
   "source": [
    "%%sql\n",
    "SELECT * FROM admin_data_hospital_one;"
   ]
  },
  {
   "cell_type": "code",
   "execution_count": 64,
   "metadata": {},
   "outputs": [
    {
     "name": "stdout",
     "output_type": "stream",
     "text": [
      " * sqlite://\n",
      "Done.\n"
     ]
    },
    {
     "data": {
      "text/html": [
       "<table>\n",
       "    <tr>\n",
       "        <th>ID</th>\n",
       "        <th>patient_name</th>\n",
       "        <th>hospital_number</th>\n",
       "        <th>Age</th>\n",
       "        <th>Sex</th>\n",
       "    </tr>\n",
       "    <tr>\n",
       "        <td>1</td>\n",
       "        <td>Jane Smith</td>\n",
       "        <td>544543</td>\n",
       "        <td>88</td>\n",
       "        <td>F</td>\n",
       "    </tr>\n",
       "    <tr>\n",
       "        <td>2</td>\n",
       "        <td>Allen Daniels</td>\n",
       "        <td>435433</td>\n",
       "        <td>78</td>\n",
       "        <td>M</td>\n",
       "    </tr>\n",
       "    <tr>\n",
       "        <td>3</td>\n",
       "        <td>Sandra Jones</td>\n",
       "        <td>4534534</td>\n",
       "        <td>44</td>\n",
       "        <td>F</td>\n",
       "    </tr>\n",
       "    <tr>\n",
       "        <td>4</td>\n",
       "        <td>Jan Golas</td>\n",
       "        <td>3434534</td>\n",
       "        <td>62</td>\n",
       "        <td>M</td>\n",
       "    </tr>\n",
       "</table>"
      ],
      "text/plain": [
       "[(1, 'Jane Smith', '544543', 88, 'F'),\n",
       " (2, 'Allen Daniels', '435433', 78, 'M'),\n",
       " (3, 'Sandra Jones', '4534534', 44, 'F'),\n",
       " (4, 'Jan Golas', '3434534', 62, 'M')]"
      ]
     },
     "execution_count": 64,
     "metadata": {},
     "output_type": "execute_result"
    }
   ],
   "source": [
    "%%sql\n",
    "SELECT * FROM admin_data_hospital_two;"
   ]
  },
  {
   "cell_type": "markdown",
   "metadata": {},
   "source": [
    "We can combine them with a union like so:"
   ]
  },
  {
   "cell_type": "code",
   "execution_count": 62,
   "metadata": {},
   "outputs": [
    {
     "name": "stdout",
     "output_type": "stream",
     "text": [
      " * sqlite://\n",
      "Done.\n"
     ]
    },
    {
     "data": {
      "text/html": [
       "<table>\n",
       "    <tr>\n",
       "        <th>Name</th>\n",
       "        <th>hospital_number</th>\n",
       "        <th>Age</th>\n",
       "        <th>Sex</th>\n",
       "    </tr>\n",
       "    <tr>\n",
       "        <td>Alan Smith</td>\n",
       "        <td>342432</td>\n",
       "        <td>34</td>\n",
       "        <td>M</td>\n",
       "    </tr>\n",
       "    <tr>\n",
       "        <td>Allen Daniels</td>\n",
       "        <td>435433</td>\n",
       "        <td>78</td>\n",
       "        <td>M</td>\n",
       "    </tr>\n",
       "    <tr>\n",
       "        <td>Jan Golas</td>\n",
       "        <td>3434534</td>\n",
       "        <td>62</td>\n",
       "        <td>M</td>\n",
       "    </tr>\n",
       "    <tr>\n",
       "        <td>Jane Smith</td>\n",
       "        <td>544543</td>\n",
       "        <td>88</td>\n",
       "        <td>F</td>\n",
       "    </tr>\n",
       "    <tr>\n",
       "        <td>Mohamed Aziz</td>\n",
       "        <td>322432</td>\n",
       "        <td>64</td>\n",
       "        <td>M</td>\n",
       "    </tr>\n",
       "    <tr>\n",
       "        <td>Paul Jones</td>\n",
       "        <td>643334</td>\n",
       "        <td>54</td>\n",
       "        <td>M</td>\n",
       "    </tr>\n",
       "    <tr>\n",
       "        <td>Sandra Jones</td>\n",
       "        <td>4534534</td>\n",
       "        <td>44</td>\n",
       "        <td>F</td>\n",
       "    </tr>\n",
       "</table>"
      ],
      "text/plain": [
       "[('Alan Smith', '342432', 34, 'M'),\n",
       " ('Allen Daniels', '435433', 78, 'M'),\n",
       " ('Jan Golas', '3434534', 62, 'M'),\n",
       " ('Jane Smith', '544543', 88, 'F'),\n",
       " ('Mohamed Aziz', '322432', 64, 'M'),\n",
       " ('Paul Jones', '643334', 54, 'M'),\n",
       " ('Sandra Jones', '4534534', 44, 'F')]"
      ]
     },
     "execution_count": 62,
     "metadata": {},
     "output_type": "execute_result"
    }
   ],
   "source": [
    "%%sql\n",
    "SELECT Name, hospital_number, Age, Sex FROM admin_data_hospital_one \n",
    "UNION\n",
    "SELECT patient_name, hospital_number, Age, Sex FROM admin_data_hospital_two"
   ]
  },
  {
   "cell_type": "markdown",
   "metadata": {},
   "source": [
    "<div class=\"alert alert-success\">\n",
    "<b>Note:</b> <code>UNION ALL</code> Will keep all values, whereas <code>UNION</code> only selects unique values.\n",
    "</div>"
   ]
  },
  {
   "cell_type": "markdown",
   "metadata": {},
   "source": [
    "#### 4.3 Views"
   ]
  },
  {
   "cell_type": "markdown",
   "metadata": {},
   "source": [
    "We can create <code>views</code> in a relational database. A view is a database object that is searchable and is defined by a query. They can be though of as virtual tables, containing the results of a query. Each time the view is run, the query used to generate it also run. This can have an impact on performance. One main use of views is to simplify complex relationships or for security. In the later the view can be used to restrict access to a table, giving specific users only the information they need or are allowed to view. Many views are read only and so can't be modified or deleted. Let's create a view of the data to get the patients age, name and heart rate for all patients that have tachycardia (heart rate > 100 bpm).   "
   ]
  },
  {
   "cell_type": "code",
   "execution_count": 75,
   "metadata": {},
   "outputs": [
    {
     "name": "stdout",
     "output_type": "stream",
     "text": [
      " * sqlite://\n",
      "Done.\n",
      "Done.\n"
     ]
    },
    {
     "data": {
      "text/plain": [
       "[]"
      ]
     },
     "execution_count": 75,
     "metadata": {},
     "output_type": "execute_result"
    }
   ],
   "source": [
    "%%sql\n",
    "DROP VIEW IF EXISTS tachycardia;\n",
    "CREATE VIEW tachycardia AS SELECT Name, \"Heart rate\", Age FROM med_data WHERE \"Heart rate\" > 100;"
   ]
  },
  {
   "cell_type": "markdown",
   "metadata": {},
   "source": [
    "We can treat the view like any other table, view it and perform queries on it. We can use this to hide query complexity or to hide restricted data from certain database users."
   ]
  },
  {
   "cell_type": "code",
   "execution_count": 73,
   "metadata": {},
   "outputs": [
    {
     "name": "stdout",
     "output_type": "stream",
     "text": [
      " * sqlite://\n",
      "Done.\n"
     ]
    },
    {
     "data": {
      "text/html": [
       "<table>\n",
       "    <tr>\n",
       "        <th>Name</th>\n",
       "        <th>Heart rate</th>\n",
       "        <th>Age</th>\n",
       "    </tr>\n",
       "    <tr>\n",
       "        <td>Maureen Gdiver</td>\n",
       "        <td>101</td>\n",
       "        <td>87</td>\n",
       "    </tr>\n",
       "    <tr>\n",
       "        <td>Darren Sanders</td>\n",
       "        <td>120</td>\n",
       "        <td>34</td>\n",
       "    </tr>\n",
       "</table>"
      ],
      "text/plain": [
       "[('Maureen Gdiver', 101, 87), ('Darren Sanders', 120, 34)]"
      ]
     },
     "execution_count": 73,
     "metadata": {},
     "output_type": "execute_result"
    }
   ],
   "source": [
    "%%sql\n",
    "SELECT * FROM tachycardia;"
   ]
  },
  {
   "cell_type": "code",
   "execution_count": 74,
   "metadata": {},
   "outputs": [
    {
     "name": "stdout",
     "output_type": "stream",
     "text": [
      " * sqlite://\n",
      "Done.\n"
     ]
    },
    {
     "data": {
      "text/html": [
       "<table>\n",
       "    <tr>\n",
       "        <th>Age</th>\n",
       "    </tr>\n",
       "    <tr>\n",
       "        <td>87</td>\n",
       "    </tr>\n",
       "    <tr>\n",
       "        <td>34</td>\n",
       "    </tr>\n",
       "</table>"
      ],
      "text/plain": [
       "[(87,), (34,)]"
      ]
     },
     "execution_count": 74,
     "metadata": {},
     "output_type": "execute_result"
    }
   ],
   "source": [
    "%%sql\n",
    "SELECT Age FROM tachycardia;"
   ]
  },
  {
   "cell_type": "markdown",
   "metadata": {
    "solution2": "hidden",
    "solution2_first": true
   },
   "source": [
    "<div class=\"alert alert-block alert-info\">\n",
    "<b>Task 5:</b>\n",
    "<br> \n",
    "1. Create a view for the following query:<br />\n",
    "<code>\n",
    "SELECT Name, sys, medication FROM med_data \n",
    "INNER JOIN drug_table ON drug_table.patient_id = med_data.Id \n",
    "WHERE med_data.sys > 140;\n",
    "</code>\n",
    "<br />\n",
    "2. Using this view called <code>hypertension</code> and the <code>DISTINCT</code> command, return the unique names from the hypertension view.\n",
    "</div>"
   ]
  },
  {
   "cell_type": "code",
   "execution_count": 84,
   "metadata": {
    "solution2": "hidden"
   },
   "outputs": [
    {
     "name": "stdout",
     "output_type": "stream",
     "text": [
      " * sqlite://\n",
      "Done.\n",
      "Done.\n"
     ]
    },
    {
     "data": {
      "text/plain": [
       "[]"
      ]
     },
     "execution_count": 84,
     "metadata": {},
     "output_type": "execute_result"
    }
   ],
   "source": [
    "%%sql\n",
    "DROP VIEW IF EXISTS hypertension;\n",
    "CREATE VIEW hypertension AS\n",
    "SELECT Name, sys, medication FROM med_data \n",
    "INNER JOIN drug_table ON drug_table.patient_id = med_data.Id \n",
    "WHERE med_data.sys > 140;"
   ]
  },
  {
   "cell_type": "code",
   "execution_count": 85,
   "metadata": {
    "solution2": "hidden"
   },
   "outputs": [
    {
     "name": "stdout",
     "output_type": "stream",
     "text": [
      " * sqlite://\n",
      "Done.\n"
     ]
    },
    {
     "data": {
      "text/html": [
       "<table>\n",
       "    <tr>\n",
       "        <th>Name</th>\n",
       "    </tr>\n",
       "    <tr>\n",
       "        <td>Maureen Gdiver</td>\n",
       "    </tr>\n",
       "    <tr>\n",
       "        <td>Darren Sanders</td>\n",
       "    </tr>\n",
       "</table>"
      ],
      "text/plain": [
       "[('Maureen Gdiver',), ('Darren Sanders',)]"
      ]
     },
     "execution_count": 85,
     "metadata": {},
     "output_type": "execute_result"
    }
   ],
   "source": [
    "%%sql\n",
    "SELECT DISTINCT Name FROM hypertension;"
   ]
  },
  {
   "cell_type": "code",
   "execution_count": null,
   "metadata": {
    "collapsed": true
   },
   "outputs": [],
   "source": [
    "%%sql # type in your code below\n"
   ]
  },
  {
   "cell_type": "code",
   "execution_count": null,
   "metadata": {
    "collapsed": true
   },
   "outputs": [],
   "source": [
    "%%sql # type in your code below\n"
   ]
  },
  {
   "cell_type": "markdown",
   "metadata": {},
   "source": [
    "In the next notebook we will look at using some of the inbuilt SQL functions to aggregate data."
   ]
  },
  {
   "cell_type": "code",
   "execution_count": null,
   "metadata": {
    "collapsed": true
   },
   "outputs": [],
   "source": []
  }
 ],
 "metadata": {
  "hide_input": false,
  "kernelspec": {
   "display_name": "Python 3",
   "language": "python",
   "name": "python3"
  },
  "language_info": {
   "codemirror_mode": {
    "name": "ipython",
    "version": 3
   },
   "file_extension": ".py",
   "mimetype": "text/x-python",
   "name": "python",
   "nbconvert_exporter": "python",
   "pygments_lexer": "ipython3",
   "version": "3.6.3"
  }
 },
 "nbformat": 4,
 "nbformat_minor": 2
}
