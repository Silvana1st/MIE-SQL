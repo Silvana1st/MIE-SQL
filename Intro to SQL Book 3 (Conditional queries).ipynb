{
 "cells": [
  {
   "cell_type": "markdown",
   "metadata": {},
   "source": [
    "<img src=\"./intro_images/MIE.png\" width=\"100%\" align=\"left\" />"
   ]
  },
  {
   "cell_type": "markdown",
   "metadata": {},
   "source": [
    "<table style=\"float:right;\">\n",
    "    <tr>\n",
    "        <td>                      \n",
    "            <div style=\"text-align: right\"><a href=\"https://alandavies.netlify.com\" target=\"_blank\">Dr Alan Davies</a></div>\n",
    "            <div style=\"text-align: right\">Lecturer health data science</div>\n",
    "            <div style=\"text-align: right\">University of Manchester</div>\n",
    "         </td>\n",
    "         <td>\n",
    "             <img src=\"./intro_images/alan.png\" width=\"30%\" />\n",
    "         </td>\n",
    "     </tr>\n",
    "</table>"
   ]
  },
  {
   "cell_type": "markdown",
   "metadata": {},
   "source": [
    "# Conditional queries\n",
    "****"
   ]
  },
  {
   "cell_type": "markdown",
   "metadata": {},
   "source": [
    "Lets start by recreating the database we left off with last time. Run the next few cells to setup the database with the two tables <code>med_data</code> and <code>drug_table</code>. "
   ]
  },
  {
   "cell_type": "code",
   "execution_count": 5,
   "metadata": {},
   "outputs": [
    {
     "name": "stdout",
     "output_type": "stream",
     "text": [
      "The sql extension is already loaded. To reload it, use:\n",
      "  %reload_ext sql\n"
     ]
    },
    {
     "data": {
      "text/plain": [
       "'Connected: @None'"
      ]
     },
     "execution_count": 5,
     "metadata": {},
     "output_type": "execute_result"
    }
   ],
   "source": [
    "%load_ext sql\n",
    "%sql sqlite://"
   ]
  },
  {
   "cell_type": "code",
   "execution_count": 6,
   "metadata": {
    "hide_input": true
   },
   "outputs": [
    {
     "name": "stdout",
     "output_type": "stream",
     "text": [
      " * sqlite://\n",
      "Done.\n",
      "Done.\n",
      "1 rows affected.\n",
      "1 rows affected.\n",
      "1 rows affected.\n",
      "1 rows affected.\n",
      "1 rows affected.\n",
      "Done.\n",
      "Done.\n",
      "1 rows affected.\n",
      "1 rows affected.\n",
      "1 rows affected.\n",
      "1 rows affected.\n",
      "1 rows affected.\n",
      "1 rows affected.\n",
      "1 rows affected.\n",
      "1 rows affected.\n"
     ]
    },
    {
     "data": {
      "text/plain": [
       "[]"
      ]
     },
     "execution_count": 6,
     "metadata": {},
     "output_type": "execute_result"
    }
   ],
   "source": [
    "%%sql\n",
    "DROP TABLE IF EXISTS med_data;\n",
    "CREATE TABLE med_data (ID INTEGER NOT NULL PRIMARY KEY, Name VARCHAR(255), Age INTEGER, Sex CHAR, \"Blood pressure\" CHAR(7), \"Heart rate\" INTEGER);\n",
    "INSERT INTO med_data (Name, Age, Sex, \"Blood pressure\", \"Heart rate\") VALUES(\"Alan Smith\", 24, \"M\", \"120/70\", 78);\n",
    "INSERT INTO med_data (Name, Age, Sex, \"Blood pressure\", \"Heart rate\") VALUES(\"Maureen Gdiver\", 87, \"F\", \"156/82\", 82);\n",
    "INSERT INTO med_data (Name, Age, Sex, \"Blood pressure\", \"Heart rate\") VALUES(\"Adam Blythe\", 54, \"M\", \"132/73\", 72);\n",
    "INSERT INTO med_data (Name, Age, Sex, \"Blood pressure\", \"Heart rate\") VALUES(\"Darren Sanders\", 34, \"M\", \"155/67\", 67);\n",
    "INSERT INTO med_data (Name, Age, Sex, \"Blood pressure\", \"Heart rate\") VALUES(\"Sally-Ann Joyce\", 19, \"F\", \"121/72\", 65);\n",
    "DROP TABLE IF EXISTS drug_table;\n",
    "CREATE TABLE drug_table (ID INTEGER NOT NULL PRIMARY KEY, medication VARCHAR(255), route CHAR(4), \"freq per day\" INTEGER, dose VARCHAR(255), patient_id INTEGER, FOREIGN KEY(patient_id) REFERENCES med_data(ID));\n",
    "INSERT INTO drug_table (medication, route, \"freq per day\", dose, patient_id) VALUES(\"AMOXICILLIN\", \"PO\", 3, \"500mg\", 1);\n",
    "INSERT INTO drug_table (medication, route, \"freq per day\", dose, patient_id) VALUES(\"IRBESARTAN\", \"PO\", 1, \"150mg\", 2);\n",
    "INSERT INTO drug_table (medication, route, \"freq per day\", dose, patient_id) VALUES(\"DIGOXIN\", \"PO\", 1, \"1.5mg\", 2);\n",
    "INSERT INTO drug_table (medication, route, \"freq per day\", dose, patient_id) VALUES(\"SIMVASTATIN\", \"PO\", 1, \"40mg\", 3);\n",
    "INSERT INTO drug_table (medication, route, \"freq per day\", dose, patient_id) VALUES(\"RAMIPRIL\", \"PO\", 1, \"2.5mg\", 4);\n",
    "INSERT INTO drug_table (medication, route, \"freq per day\", dose, patient_id) VALUES(\"WARFARIN\", \"PO\", 1, \"variable\", 4);\n",
    "INSERT INTO drug_table (medication, route, \"freq per day\", dose, patient_id) VALUES(\"SENNA\", \"PO\", 1, \"15mg\", 4);\n",
    "INSERT INTO drug_table (medication, route, \"freq per day\", dose, patient_id) VALUES(\"None\", \"NA\", 0, \"NA\", 5);"
   ]
  },
  {
   "cell_type": "markdown",
   "metadata": {},
   "source": [
    "Queries are good for asking questions of the data. You probably wouldn't want to look though an entire database to answer some question. Instead you would like to see a <code>subset</code> of the data. For example lets say we wanted to see all the patients who had a heart rate above 70 beats per minute. We could write a query for this."
   ]
  },
  {
   "cell_type": "code",
   "execution_count": 7,
   "metadata": {},
   "outputs": [
    {
     "name": "stdout",
     "output_type": "stream",
     "text": [
      " * sqlite://\n",
      "Done.\n"
     ]
    },
    {
     "data": {
      "text/html": [
       "<table>\n",
       "    <tr>\n",
       "        <th>ID</th>\n",
       "        <th>Name</th>\n",
       "        <th>Heart rate</th>\n",
       "    </tr>\n",
       "    <tr>\n",
       "        <td>1</td>\n",
       "        <td>Alan Smith</td>\n",
       "        <td>78</td>\n",
       "    </tr>\n",
       "    <tr>\n",
       "        <td>2</td>\n",
       "        <td>Maureen Gdiver</td>\n",
       "        <td>82</td>\n",
       "    </tr>\n",
       "    <tr>\n",
       "        <td>3</td>\n",
       "        <td>Adam Blythe</td>\n",
       "        <td>72</td>\n",
       "    </tr>\n",
       "</table>"
      ],
      "text/plain": [
       "[(1, 'Alan Smith', 78), (2, 'Maureen Gdiver', 82), (3, 'Adam Blythe', 72)]"
      ]
     },
     "execution_count": 7,
     "metadata": {},
     "output_type": "execute_result"
    }
   ],
   "source": [
    "%%sql\n",
    "SELECT ID, name, \"Heart rate\" FROM med_data WHERE \"Heart rate\" > 70;"
   ]
  },
  {
   "cell_type": "markdown",
   "metadata": {},
   "source": [
    "Here we are retrieving a subset of the data containing the patients ID, name and heart rate for all records where the heart rate is greater than (>) 70 bpm."
   ]
  },
  {
   "cell_type": "markdown",
   "metadata": {
    "solution2": "hidden",
    "solution2_first": true
   },
   "source": [
    "<div class=\"alert alert-block alert-info\">\n",
    "<b>Task 1:</b>\n",
    "<br> \n",
    "Have a go at writing a query to return the same fields but for heart rates less than 70 bpm.\n",
    "</div>"
   ]
  },
  {
   "cell_type": "code",
   "execution_count": null,
   "metadata": {
    "collapsed": true,
    "solution2": "hidden"
   },
   "outputs": [],
   "source": []
  },
  {
   "cell_type": "code",
   "execution_count": 64,
   "metadata": {
    "solution2": "hidden"
   },
   "outputs": [
    {
     "name": "stdout",
     "output_type": "stream",
     "text": [
      " * sqlite://\n",
      "Done.\n"
     ]
    },
    {
     "data": {
      "text/html": [
       "<table>\n",
       "    <tr>\n",
       "        <th>ID</th>\n",
       "        <th>Name</th>\n",
       "        <th>Heart rate</th>\n",
       "    </tr>\n",
       "    <tr>\n",
       "        <td>4</td>\n",
       "        <td>Darren Sanders</td>\n",
       "        <td>67</td>\n",
       "    </tr>\n",
       "    <tr>\n",
       "        <td>5</td>\n",
       "        <td>Sally-Ann Joyce</td>\n",
       "        <td>65</td>\n",
       "    </tr>\n",
       "</table>"
      ],
      "text/plain": [
       "[(4, 'Darren Sanders', 67), (5, 'Sally-Ann Joyce', 65)]"
      ]
     },
     "execution_count": 64,
     "metadata": {},
     "output_type": "execute_result"
    }
   ],
   "source": [
    "%%sql\n",
    "SELECT ID, name, \"Heart rate\" FROM med_data WHERE \"Heart rate\" < 70;"
   ]
  },
  {
   "cell_type": "code",
   "execution_count": null,
   "metadata": {
    "collapsed": true,
    "solution2": "hidden"
   },
   "outputs": [],
   "source": []
  },
  {
   "cell_type": "code",
   "execution_count": null,
   "metadata": {
    "collapsed": true
   },
   "outputs": [],
   "source": [
    "%%sql # type in your code below\n"
   ]
  },
  {
   "cell_type": "code",
   "execution_count": null,
   "metadata": {
    "collapsed": true,
    "solution2": "shown"
   },
   "outputs": [],
   "source": []
  },
  {
   "cell_type": "markdown",
   "metadata": {},
   "source": [
    "<div class=\"alert alert-success\">\n",
    "<b>Note:</b> For fields with spaces in the field name we use quotation marks e.g. <code>\"Blood pressure\"</code>. This is not necessary with fields that have no spaces, e.g. <code>name</code>.\n",
    "</div>"
   ]
  },
  {
   "cell_type": "markdown",
   "metadata": {
    "solution2": "hidden",
    "solution2_first": true
   },
   "source": [
    "<div class=\"alert alert-block alert-info\">\n",
    "<b>Task 2:</b>\n",
    "<br> \n",
    "Can we write a similar query for a patients' blood pressure? If not why?\n",
    "</div>"
   ]
  },
  {
   "cell_type": "markdown",
   "metadata": {
    "solution2": "hidden"
   },
   "source": [
    "No because we are currently storing the blood pressure as text and it would have no meaning to apply operators that work with numbers on a text field."
   ]
  },
  {
   "cell_type": "markdown",
   "metadata": {},
   "source": [
    "Lets remove the blood pressure column from the table and add 2 new columns with the systolic (top number) and diastolic (bottom number) blood pressure values. We do this by first making a new temporary table with the same fields minus the one we want to delete. We then insert the data from the selected fields of the <code>med_data</code> table into this new temp table. Now we delete the old <code>med_data</code> table using the <code>DROP TABLE</code> command. Finally we rename our temp table back to <code>med_data</code>."
   ]
  },
  {
   "cell_type": "code",
   "execution_count": 8,
   "metadata": {},
   "outputs": [
    {
     "name": "stdout",
     "output_type": "stream",
     "text": [
      " * sqlite://\n",
      "Done.\n",
      "Done.\n",
      "5 rows affected.\n",
      "Done.\n",
      "Done.\n",
      "Done.\n"
     ]
    },
    {
     "data": {
      "text/html": [
       "<table>\n",
       "    <tr>\n",
       "        <th>ID</th>\n",
       "        <th>Name</th>\n",
       "        <th>Age</th>\n",
       "        <th>Sex</th>\n",
       "        <th>Heart rate</th>\n",
       "    </tr>\n",
       "    <tr>\n",
       "        <td>1</td>\n",
       "        <td>Alan Smith</td>\n",
       "        <td>24</td>\n",
       "        <td>M</td>\n",
       "        <td>78</td>\n",
       "    </tr>\n",
       "    <tr>\n",
       "        <td>2</td>\n",
       "        <td>Maureen Gdiver</td>\n",
       "        <td>87</td>\n",
       "        <td>F</td>\n",
       "        <td>82</td>\n",
       "    </tr>\n",
       "    <tr>\n",
       "        <td>3</td>\n",
       "        <td>Adam Blythe</td>\n",
       "        <td>54</td>\n",
       "        <td>M</td>\n",
       "        <td>72</td>\n",
       "    </tr>\n",
       "    <tr>\n",
       "        <td>4</td>\n",
       "        <td>Darren Sanders</td>\n",
       "        <td>34</td>\n",
       "        <td>M</td>\n",
       "        <td>67</td>\n",
       "    </tr>\n",
       "    <tr>\n",
       "        <td>5</td>\n",
       "        <td>Sally-Ann Joyce</td>\n",
       "        <td>19</td>\n",
       "        <td>F</td>\n",
       "        <td>65</td>\n",
       "    </tr>\n",
       "</table>"
      ],
      "text/plain": [
       "[(1, 'Alan Smith', 24, 'M', 78),\n",
       " (2, 'Maureen Gdiver', 87, 'F', 82),\n",
       " (3, 'Adam Blythe', 54, 'M', 72),\n",
       " (4, 'Darren Sanders', 34, 'M', 67),\n",
       " (5, 'Sally-Ann Joyce', 19, 'F', 65)]"
      ]
     },
     "execution_count": 8,
     "metadata": {},
     "output_type": "execute_result"
    }
   ],
   "source": [
    "%%sql\n",
    "\n",
    "DROP TABLE IF EXISTS tmp_table;\n",
    "CREATE TABLE tmp_table (\n",
    "    ID INTEGER NOT NULL PRIMARY KEY,\n",
    "    Name VARCHAR(255),\n",
    "    Age INTEGER,\n",
    "    Sex CHAR,\n",
    "    \"Heart rate\" INTEGER\n",
    ");\n",
    "\n",
    "INSERT INTO tmp_table SELECT ID, Name, Age, Sex, \"Heart rate\" FROM med_data; \n",
    "DROP TABLE IF EXISTS med_data;\n",
    "ALTER TABLE tmp_table RENAME TO med_data;\n",
    "SELECT * FROM med_data;"
   ]
  },
  {
   "cell_type": "markdown",
   "metadata": {},
   "source": [
    "<div class=\"alert alert-success\">\n",
    "<b>Note:</b> This might seem more complicated than necessary. This is because SQLite has limited support for <code>ALTER TABLE</code>. In other versions of SQL you can simply do <code>ALTER TABLE med_data DROP COLUMN \"Blood pressure\";</code>\n",
    "</div>"
   ]
  },
  {
   "cell_type": "markdown",
   "metadata": {},
   "source": [
    "We can now add the two new columns and populate them with the correct data."
   ]
  },
  {
   "cell_type": "code",
   "execution_count": 9,
   "metadata": {},
   "outputs": [
    {
     "name": "stdout",
     "output_type": "stream",
     "text": [
      " * sqlite://\n",
      "Done.\n",
      "Done.\n"
     ]
    },
    {
     "data": {
      "text/plain": [
       "[]"
      ]
     },
     "execution_count": 9,
     "metadata": {},
     "output_type": "execute_result"
    }
   ],
   "source": [
    "%%sql\n",
    "ALTER TABLE med_data ADD COLUMN sys INTEGER;\n",
    "ALTER TABLE med_data ADD COLUMN dia INTEGER;"
   ]
  },
  {
   "cell_type": "code",
   "execution_count": 10,
   "metadata": {},
   "outputs": [
    {
     "name": "stdout",
     "output_type": "stream",
     "text": [
      " * sqlite://\n",
      "1 rows affected.\n",
      "1 rows affected.\n",
      "1 rows affected.\n",
      "1 rows affected.\n",
      "1 rows affected.\n",
      "1 rows affected.\n",
      "1 rows affected.\n",
      "1 rows affected.\n",
      "1 rows affected.\n",
      "1 rows affected.\n",
      "Done.\n"
     ]
    },
    {
     "data": {
      "text/html": [
       "<table>\n",
       "    <tr>\n",
       "        <th>ID</th>\n",
       "        <th>Name</th>\n",
       "        <th>Age</th>\n",
       "        <th>Sex</th>\n",
       "        <th>Heart rate</th>\n",
       "        <th>sys</th>\n",
       "        <th>dia</th>\n",
       "    </tr>\n",
       "    <tr>\n",
       "        <td>1</td>\n",
       "        <td>Alan Smith</td>\n",
       "        <td>24</td>\n",
       "        <td>M</td>\n",
       "        <td>78</td>\n",
       "        <td>120</td>\n",
       "        <td>70</td>\n",
       "    </tr>\n",
       "    <tr>\n",
       "        <td>2</td>\n",
       "        <td>Maureen Gdiver</td>\n",
       "        <td>87</td>\n",
       "        <td>F</td>\n",
       "        <td>82</td>\n",
       "        <td>156</td>\n",
       "        <td>82</td>\n",
       "    </tr>\n",
       "    <tr>\n",
       "        <td>3</td>\n",
       "        <td>Adam Blythe</td>\n",
       "        <td>54</td>\n",
       "        <td>M</td>\n",
       "        <td>72</td>\n",
       "        <td>132</td>\n",
       "        <td>73</td>\n",
       "    </tr>\n",
       "    <tr>\n",
       "        <td>4</td>\n",
       "        <td>Darren Sanders</td>\n",
       "        <td>34</td>\n",
       "        <td>M</td>\n",
       "        <td>67</td>\n",
       "        <td>155</td>\n",
       "        <td>67</td>\n",
       "    </tr>\n",
       "    <tr>\n",
       "        <td>5</td>\n",
       "        <td>Sally-Ann Joyce</td>\n",
       "        <td>19</td>\n",
       "        <td>F</td>\n",
       "        <td>65</td>\n",
       "        <td>121</td>\n",
       "        <td>72</td>\n",
       "    </tr>\n",
       "</table>"
      ],
      "text/plain": [
       "[(1, 'Alan Smith', 24, 'M', 78, 120, 70),\n",
       " (2, 'Maureen Gdiver', 87, 'F', 82, 156, 82),\n",
       " (3, 'Adam Blythe', 54, 'M', 72, 132, 73),\n",
       " (4, 'Darren Sanders', 34, 'M', 67, 155, 67),\n",
       " (5, 'Sally-Ann Joyce', 19, 'F', 65, 121, 72)]"
      ]
     },
     "execution_count": 10,
     "metadata": {},
     "output_type": "execute_result"
    }
   ],
   "source": [
    "%%sql\n",
    "UPDATE med_data SET sys = 120 WHERE ID = 1;\n",
    "UPDATE med_data SET sys = 156 WHERE ID = 2;\n",
    "UPDATE med_data SET sys = 132 WHERE ID = 3;\n",
    "UPDATE med_data SET sys = 155 WHERE ID = 4;\n",
    "UPDATE med_data SET sys = 121 WHERE ID = 5;\n",
    "\n",
    "UPDATE med_data SET dia = 70 WHERE ID = 1;\n",
    "UPDATE med_data SET dia = 82 WHERE ID = 2;\n",
    "UPDATE med_data SET dia = 73 WHERE ID = 3;\n",
    "UPDATE med_data SET dia = 67 WHERE ID = 4;\n",
    "UPDATE med_data SET dia = 72 WHERE ID = 5;\n",
    "SELECT * FROM med_data;"
   ]
  },
  {
   "cell_type": "markdown",
   "metadata": {},
   "source": [
    "Grade 1 or mild hypertension is defined as a blood pressure between and including 140 and 159. We can write a query to find all the patients in our database with grade 1 hypertension."
   ]
  },
  {
   "cell_type": "code",
   "execution_count": 11,
   "metadata": {},
   "outputs": [
    {
     "name": "stdout",
     "output_type": "stream",
     "text": [
      " * sqlite://\n",
      "Done.\n"
     ]
    },
    {
     "data": {
      "text/html": [
       "<table>\n",
       "    <tr>\n",
       "        <th>Name</th>\n",
       "        <th>sys</th>\n",
       "    </tr>\n",
       "    <tr>\n",
       "        <td>Maureen Gdiver</td>\n",
       "        <td>156</td>\n",
       "    </tr>\n",
       "    <tr>\n",
       "        <td>Darren Sanders</td>\n",
       "        <td>155</td>\n",
       "    </tr>\n",
       "</table>"
      ],
      "text/plain": [
       "[('Maureen Gdiver', 156), ('Darren Sanders', 155)]"
      ]
     },
     "execution_count": 11,
     "metadata": {},
     "output_type": "execute_result"
    }
   ],
   "source": [
    "%%sql\n",
    "SELECT Name, sys FROM med_data WHERE sys >= 140 AND sys <=159;"
   ]
  },
  {
   "cell_type": "markdown",
   "metadata": {
    "solution2": "hidden",
    "solution2_first": true
   },
   "source": [
    "<div class=\"alert alert-block alert-info\">\n",
    "<b>Task 3:</b>\n",
    "<br> \n",
    "We can define hypertension (high blood pressure) as follows:\n",
    "<br />\n",
    "<table class=\"table-bordered\">\n",
    "<thead>\n",
    "<th>Grade</th>\n",
    "<th>Systolic (mmHG)</th>\n",
    "<th>Diastolic (mmHG)</th>\n",
    "</thead>\n",
    "<tbody>\n",
    "<tr>\n",
    "<td>Normal/optimal</td>\n",
    "<td>&lt; 140</td>\n",
    "<td>&lt; 90</td>\n",
    "</tr>\n",
    "<tr>\n",
    "<td>Grade 1 (mild)</td>\n",
    "<td>140-159</td>\n",
    "<td>90-99</td>\n",
    "</tr>\n",
    "<tr>\n",
    "<td>Grade 2 (moderate)</td>\n",
    "<td>160-179</td>\n",
    "<td>100-109</td>\n",
    "</tr>\n",
    "<tr>\n",
    "<td>Grade 3 (severe)</td>\n",
    "<td>&ge; 180</td>\n",
    "<td>&ge; 110</td>\n",
    "</tr>\n",
    "</tbody>\n",
    "</table>\n",
    "<br />\n",
    "Blood pressure is typically measured in millimeters of mercury (mmHG). The top number (systolic) is when blood is being pumped (squeezed). The bottom number (diastolic) is when the vessels are relaxed.<br /><br />  \n",
    "Write queries to see how many patients fit into each of the categories in the table (using just the systolic column). We already did grade 1 in the example above.\n",
    "</div>"
   ]
  },
  {
   "cell_type": "code",
   "execution_count": 66,
   "metadata": {
    "solution2": "hidden"
   },
   "outputs": [
    {
     "name": "stdout",
     "output_type": "stream",
     "text": [
      " * sqlite://\n",
      "Done.\n"
     ]
    },
    {
     "data": {
      "text/html": [
       "<table>\n",
       "    <tr>\n",
       "        <th>Name</th>\n",
       "        <th>sys</th>\n",
       "    </tr>\n",
       "    <tr>\n",
       "        <td>Alan Smith</td>\n",
       "        <td>120</td>\n",
       "    </tr>\n",
       "    <tr>\n",
       "        <td>Adam Blythe</td>\n",
       "        <td>132</td>\n",
       "    </tr>\n",
       "    <tr>\n",
       "        <td>Sally-Ann Joyce</td>\n",
       "        <td>121</td>\n",
       "    </tr>\n",
       "</table>"
      ],
      "text/plain": [
       "[('Alan Smith', 120), ('Adam Blythe', 132), ('Sally-Ann Joyce', 121)]"
      ]
     },
     "execution_count": 66,
     "metadata": {},
     "output_type": "execute_result"
    }
   ],
   "source": [
    "%%sql\n",
    "SELECT Name, sys FROM med_data WHERE sys < 140;"
   ]
  },
  {
   "cell_type": "code",
   "execution_count": 67,
   "metadata": {
    "solution2": "hidden"
   },
   "outputs": [
    {
     "name": "stdout",
     "output_type": "stream",
     "text": [
      " * sqlite://\n",
      "Done.\n"
     ]
    },
    {
     "data": {
      "text/html": [
       "<table>\n",
       "    <tr>\n",
       "        <th>Name</th>\n",
       "        <th>sys</th>\n",
       "    </tr>\n",
       "    <tr>\n",
       "        <td>Maureen Gdiver</td>\n",
       "        <td>156</td>\n",
       "    </tr>\n",
       "    <tr>\n",
       "        <td>Darren Sanders</td>\n",
       "        <td>155</td>\n",
       "    </tr>\n",
       "</table>"
      ],
      "text/plain": [
       "[('Maureen Gdiver', 156), ('Darren Sanders', 155)]"
      ]
     },
     "execution_count": 67,
     "metadata": {},
     "output_type": "execute_result"
    }
   ],
   "source": [
    "%%sql\n",
    "SELECT Name, sys FROM med_data WHERE sys >= 140 AND sys <=159;"
   ]
  },
  {
   "cell_type": "code",
   "execution_count": 68,
   "metadata": {
    "solution2": "hidden"
   },
   "outputs": [
    {
     "name": "stdout",
     "output_type": "stream",
     "text": [
      " * sqlite://\n",
      "Done.\n"
     ]
    },
    {
     "data": {
      "text/html": [
       "<table>\n",
       "    <tr>\n",
       "        <th>Name</th>\n",
       "        <th>sys</th>\n",
       "    </tr>\n",
       "</table>"
      ],
      "text/plain": [
       "[]"
      ]
     },
     "execution_count": 68,
     "metadata": {},
     "output_type": "execute_result"
    }
   ],
   "source": [
    "%%sql\n",
    "SELECT Name, sys FROM med_data WHERE sys >= 160 AND sys <=179;"
   ]
  },
  {
   "cell_type": "code",
   "execution_count": 69,
   "metadata": {
    "solution2": "hidden"
   },
   "outputs": [
    {
     "name": "stdout",
     "output_type": "stream",
     "text": [
      " * sqlite://\n",
      "Done.\n"
     ]
    },
    {
     "data": {
      "text/html": [
       "<table>\n",
       "    <tr>\n",
       "        <th>Name</th>\n",
       "        <th>sys</th>\n",
       "    </tr>\n",
       "</table>"
      ],
      "text/plain": [
       "[]"
      ]
     },
     "execution_count": 69,
     "metadata": {},
     "output_type": "execute_result"
    }
   ],
   "source": [
    "%%sql\n",
    "SELECT Name, sys FROM med_data WHERE sys >= 180;"
   ]
  },
  {
   "cell_type": "code",
   "execution_count": null,
   "metadata": {
    "collapsed": true
   },
   "outputs": [],
   "source": [
    "%%sql # type in your code below\n"
   ]
  },
  {
   "cell_type": "code",
   "execution_count": null,
   "metadata": {
    "collapsed": true
   },
   "outputs": [],
   "source": [
    "%%sql # type in your code below\n"
   ]
  },
  {
   "cell_type": "code",
   "execution_count": null,
   "metadata": {
    "collapsed": true
   },
   "outputs": [],
   "source": [
    "%%sql # type in your code below\n"
   ]
  },
  {
   "cell_type": "code",
   "execution_count": null,
   "metadata": {
    "collapsed": true
   },
   "outputs": [],
   "source": [
    "%%sql # type in your code below\n"
   ]
  },
  {
   "cell_type": "markdown",
   "metadata": {},
   "source": [
    "Another way of accomplishing a similar thing is to use the <code>CASE</code> clause. This works in a similar way to the if/else statements we used in Python. Generating an additional results column based on the selection criteria. Here we can grade each person according to the hypertension criteria. "
   ]
  },
  {
   "cell_type": "code",
   "execution_count": 12,
   "metadata": {},
   "outputs": [
    {
     "name": "stdout",
     "output_type": "stream",
     "text": [
      " * sqlite://\n",
      "Done.\n"
     ]
    },
    {
     "data": {
      "text/html": [
       "<table>\n",
       "    <tr>\n",
       "        <th>Name</th>\n",
       "        <th>sys</th>\n",
       "        <th>BP classification</th>\n",
       "    </tr>\n",
       "    <tr>\n",
       "        <td>Alan Smith</td>\n",
       "        <td>120</td>\n",
       "        <td>Normal</td>\n",
       "    </tr>\n",
       "    <tr>\n",
       "        <td>Maureen Gdiver</td>\n",
       "        <td>156</td>\n",
       "        <td>Grade 1</td>\n",
       "    </tr>\n",
       "    <tr>\n",
       "        <td>Adam Blythe</td>\n",
       "        <td>132</td>\n",
       "        <td>Normal</td>\n",
       "    </tr>\n",
       "    <tr>\n",
       "        <td>Darren Sanders</td>\n",
       "        <td>155</td>\n",
       "        <td>Grade 1</td>\n",
       "    </tr>\n",
       "    <tr>\n",
       "        <td>Sally-Ann Joyce</td>\n",
       "        <td>121</td>\n",
       "        <td>Normal</td>\n",
       "    </tr>\n",
       "</table>"
      ],
      "text/plain": [
       "[('Alan Smith', 120, 'Normal'),\n",
       " ('Maureen Gdiver', 156, 'Grade 1'),\n",
       " ('Adam Blythe', 132, 'Normal'),\n",
       " ('Darren Sanders', 155, 'Grade 1'),\n",
       " ('Sally-Ann Joyce', 121, 'Normal')]"
      ]
     },
     "execution_count": 12,
     "metadata": {},
     "output_type": "execute_result"
    }
   ],
   "source": [
    "%%sql\n",
    "SELECT Name, sys, \n",
    "CASE\n",
    "WHEN sys > 140 THEN 'Grade 1'\n",
    "WHEN sys > 159 THEN 'Grade 2'\n",
    "WHEN sys >= 180 THEN 'Grade 3'\n",
    "ELSE 'Normal'\n",
    "END as 'BP classification'\n",
    "FROM med_data;"
   ]
  },
  {
   "cell_type": "markdown",
   "metadata": {
    "solution2": "hidden",
    "solution2_first": true
   },
   "source": [
    "<div class=\"alert alert-block alert-info\">\n",
    "<b>Task 4:</b>\n",
    "<br> \n",
    "Write queries for the following:<br />\n",
    "1. Get all the males (return name and sex) from <code>med_data</code>.<br />\n",
    "2. Get all patients over the age of 50 years (return name and age) from <code>med_data</code>.<br />\n",
    "3. Get all the people that have medication more than once a day (return medication and frequency) from <code>drug_table</code>.\n",
    "</div>"
   ]
  },
  {
   "cell_type": "code",
   "execution_count": 70,
   "metadata": {
    "solution2": "hidden"
   },
   "outputs": [
    {
     "name": "stdout",
     "output_type": "stream",
     "text": [
      " * sqlite://\n",
      "Done.\n"
     ]
    },
    {
     "data": {
      "text/html": [
       "<table>\n",
       "    <tr>\n",
       "        <th>Name</th>\n",
       "        <th>Sex</th>\n",
       "    </tr>\n",
       "    <tr>\n",
       "        <td>Alan Smith</td>\n",
       "        <td>M</td>\n",
       "    </tr>\n",
       "    <tr>\n",
       "        <td>Adam Blythe</td>\n",
       "        <td>M</td>\n",
       "    </tr>\n",
       "    <tr>\n",
       "        <td>Darren Sanders</td>\n",
       "        <td>M</td>\n",
       "    </tr>\n",
       "</table>"
      ],
      "text/plain": [
       "[('Alan Smith', 'M'), ('Adam Blythe', 'M'), ('Darren Sanders', 'M')]"
      ]
     },
     "execution_count": 70,
     "metadata": {},
     "output_type": "execute_result"
    }
   ],
   "source": [
    "%%sql \n",
    "SELECT Name, Sex FROM med_data WHERE Sex = \"M\";"
   ]
  },
  {
   "cell_type": "code",
   "execution_count": 71,
   "metadata": {
    "solution2": "hidden"
   },
   "outputs": [
    {
     "name": "stdout",
     "output_type": "stream",
     "text": [
      " * sqlite://\n",
      "Done.\n"
     ]
    },
    {
     "data": {
      "text/html": [
       "<table>\n",
       "    <tr>\n",
       "        <th>Name</th>\n",
       "        <th>Age</th>\n",
       "    </tr>\n",
       "    <tr>\n",
       "        <td>Maureen Gdiver</td>\n",
       "        <td>87</td>\n",
       "    </tr>\n",
       "    <tr>\n",
       "        <td>Adam Blythe</td>\n",
       "        <td>54</td>\n",
       "    </tr>\n",
       "</table>"
      ],
      "text/plain": [
       "[('Maureen Gdiver', 87), ('Adam Blythe', 54)]"
      ]
     },
     "execution_count": 71,
     "metadata": {},
     "output_type": "execute_result"
    }
   ],
   "source": [
    "%%sql\n",
    "SELECT Name, Age FROM med_data WHERE Age > 50;"
   ]
  },
  {
   "cell_type": "code",
   "execution_count": 72,
   "metadata": {
    "solution2": "hidden"
   },
   "outputs": [
    {
     "name": "stdout",
     "output_type": "stream",
     "text": [
      " * sqlite://\n",
      "Done.\n"
     ]
    },
    {
     "data": {
      "text/html": [
       "<table>\n",
       "    <tr>\n",
       "        <th>medication</th>\n",
       "        <th>freq per day</th>\n",
       "    </tr>\n",
       "    <tr>\n",
       "        <td>AMOXICILLIN</td>\n",
       "        <td>3</td>\n",
       "    </tr>\n",
       "</table>"
      ],
      "text/plain": [
       "[('AMOXICILLIN', 3)]"
      ]
     },
     "execution_count": 72,
     "metadata": {},
     "output_type": "execute_result"
    }
   ],
   "source": [
    "%%sql\n",
    "SELECT medication, \"freq per day\" FROM drug_table WHERE \"freq per day\" > 1;"
   ]
  },
  {
   "cell_type": "code",
   "execution_count": null,
   "metadata": {
    "collapsed": true
   },
   "outputs": [],
   "source": [
    "%%sql # type in your code below\n"
   ]
  },
  {
   "cell_type": "code",
   "execution_count": null,
   "metadata": {
    "collapsed": true
   },
   "outputs": [],
   "source": [
    "%%sql # type in your code below\n"
   ]
  },
  {
   "cell_type": "code",
   "execution_count": null,
   "metadata": {
    "collapsed": true
   },
   "outputs": [],
   "source": [
    "%%sql # type in your code below\n"
   ]
  },
  {
   "cell_type": "markdown",
   "metadata": {},
   "source": [
    "#### 3.1 Dealing with text"
   ]
  },
  {
   "cell_type": "markdown",
   "metadata": {
    "collapsed": true
   },
   "source": [
    "We have looked at how to extract subsets of data from tables based on numerical values. Another useful operation is being able to extract data based on textual conditions. This can be more challenging depending on how the data is entered. Two of the most useful clauses/operators are <code>LIKE</code> and <code>GLOB</code>."
   ]
  },
  {
   "cell_type": "code",
   "execution_count": 14,
   "metadata": {},
   "outputs": [
    {
     "name": "stdout",
     "output_type": "stream",
     "text": [
      " * sqlite://\n",
      "Done.\n"
     ]
    },
    {
     "data": {
      "text/html": [
       "<table>\n",
       "    <tr>\n",
       "        <th>ID</th>\n",
       "        <th>Name</th>\n",
       "        <th>Age</th>\n",
       "        <th>Sex</th>\n",
       "        <th>Heart rate</th>\n",
       "        <th>sys</th>\n",
       "        <th>dia</th>\n",
       "    </tr>\n",
       "    <tr>\n",
       "        <td>1</td>\n",
       "        <td>Alan Smith</td>\n",
       "        <td>24</td>\n",
       "        <td>M</td>\n",
       "        <td>78</td>\n",
       "        <td>120</td>\n",
       "        <td>70</td>\n",
       "    </tr>\n",
       "    <tr>\n",
       "        <td>2</td>\n",
       "        <td>Maureen Gdiver</td>\n",
       "        <td>87</td>\n",
       "        <td>F</td>\n",
       "        <td>82</td>\n",
       "        <td>156</td>\n",
       "        <td>82</td>\n",
       "    </tr>\n",
       "    <tr>\n",
       "        <td>3</td>\n",
       "        <td>Adam Blythe</td>\n",
       "        <td>54</td>\n",
       "        <td>M</td>\n",
       "        <td>72</td>\n",
       "        <td>132</td>\n",
       "        <td>73</td>\n",
       "    </tr>\n",
       "    <tr>\n",
       "        <td>4</td>\n",
       "        <td>Darren Sanders</td>\n",
       "        <td>34</td>\n",
       "        <td>M</td>\n",
       "        <td>67</td>\n",
       "        <td>155</td>\n",
       "        <td>67</td>\n",
       "    </tr>\n",
       "    <tr>\n",
       "        <td>5</td>\n",
       "        <td>Sally-Ann Joyce</td>\n",
       "        <td>19</td>\n",
       "        <td>F</td>\n",
       "        <td>65</td>\n",
       "        <td>121</td>\n",
       "        <td>72</td>\n",
       "    </tr>\n",
       "</table>"
      ],
      "text/plain": [
       "[(1, 'Alan Smith', 24, 'M', 78, 120, 70),\n",
       " (2, 'Maureen Gdiver', 87, 'F', 82, 156, 82),\n",
       " (3, 'Adam Blythe', 54, 'M', 72, 132, 73),\n",
       " (4, 'Darren Sanders', 34, 'M', 67, 155, 67),\n",
       " (5, 'Sally-Ann Joyce', 19, 'F', 65, 121, 72)]"
      ]
     },
     "execution_count": 14,
     "metadata": {},
     "output_type": "execute_result"
    }
   ],
   "source": [
    "%%sql\n",
    "SELECT * FROM med_data;"
   ]
  },
  {
   "cell_type": "markdown",
   "metadata": {},
   "source": [
    "Let's say we were not sure exactly how <code>Maureen Gdiver's<code> name was spelled. We can use <code>LIKE</code> to retrieve all the similar data. For example:"
   ]
  },
  {
   "cell_type": "code",
   "execution_count": 15,
   "metadata": {},
   "outputs": [
    {
     "name": "stdout",
     "output_type": "stream",
     "text": [
      " * sqlite://\n",
      "Done.\n"
     ]
    },
    {
     "data": {
      "text/html": [
       "<table>\n",
       "    <tr>\n",
       "        <th>ID</th>\n",
       "        <th>Name</th>\n",
       "        <th>Age</th>\n",
       "        <th>Sex</th>\n",
       "        <th>Heart rate</th>\n",
       "        <th>sys</th>\n",
       "        <th>dia</th>\n",
       "    </tr>\n",
       "    <tr>\n",
       "        <td>2</td>\n",
       "        <td>Maureen Gdiver</td>\n",
       "        <td>87</td>\n",
       "        <td>F</td>\n",
       "        <td>82</td>\n",
       "        <td>156</td>\n",
       "        <td>82</td>\n",
       "    </tr>\n",
       "</table>"
      ],
      "text/plain": [
       "[(2, 'Maureen Gdiver', 87, 'F', 82, 156, 82)]"
      ]
     },
     "execution_count": 15,
     "metadata": {},
     "output_type": "execute_result"
    }
   ],
   "source": [
    "%%sql\n",
    "SELECT * FROM med_data WHERE Name LIKE \"mau%\";"
   ]
  },
  {
   "cell_type": "markdown",
   "metadata": {},
   "source": [
    "<div class=\"alert alert-success\">\n",
    "<b>Note:</b> It is common practice to store first and last name in separate fields to facilitate searching more easily (i.e. by last or first name).\n",
    "</div>"
   ]
  },
  {
   "cell_type": "markdown",
   "metadata": {},
   "source": [
    "Firstly <code>LIKE</code> is not case sensitive so we didn't need to use the capital M for Maureen's first name. Here we are using the <code>%</code> wildcard to select all names that start with <code>mau</code> but can end with anything. If we just wanted all people with names beginning with 'A' we could write:"
   ]
  },
  {
   "cell_type": "code",
   "execution_count": 16,
   "metadata": {},
   "outputs": [
    {
     "name": "stdout",
     "output_type": "stream",
     "text": [
      " * sqlite://\n",
      "Done.\n"
     ]
    },
    {
     "data": {
      "text/html": [
       "<table>\n",
       "    <tr>\n",
       "        <th>ID</th>\n",
       "        <th>Name</th>\n",
       "        <th>Age</th>\n",
       "        <th>Sex</th>\n",
       "        <th>Heart rate</th>\n",
       "        <th>sys</th>\n",
       "        <th>dia</th>\n",
       "    </tr>\n",
       "    <tr>\n",
       "        <td>1</td>\n",
       "        <td>Alan Smith</td>\n",
       "        <td>24</td>\n",
       "        <td>M</td>\n",
       "        <td>78</td>\n",
       "        <td>120</td>\n",
       "        <td>70</td>\n",
       "    </tr>\n",
       "    <tr>\n",
       "        <td>3</td>\n",
       "        <td>Adam Blythe</td>\n",
       "        <td>54</td>\n",
       "        <td>M</td>\n",
       "        <td>72</td>\n",
       "        <td>132</td>\n",
       "        <td>73</td>\n",
       "    </tr>\n",
       "</table>"
      ],
      "text/plain": [
       "[(1, 'Alan Smith', 24, 'M', 78, 120, 70),\n",
       " (3, 'Adam Blythe', 54, 'M', 72, 132, 73)]"
      ]
     },
     "execution_count": 16,
     "metadata": {},
     "output_type": "execute_result"
    }
   ],
   "source": [
    "%%sql\n",
    "SELECT * FROM med_data WHERE Name LIKE \"a%\";"
   ]
  },
  {
   "cell_type": "markdown",
   "metadata": {
    "solution2": "hidden",
    "solution2_first": true
   },
   "source": [
    "<div class=\"alert alert-block alert-info\">\n",
    "<b>Task 5:</b>\n",
    "<br> \n",
    "Using the <code>%</code> wildcard and <code>LIKE</code>, write a query to return all the peoples names that <strong>end</strong> with the letter 'e'.\n",
    "</div>"
   ]
  },
  {
   "cell_type": "code",
   "execution_count": 17,
   "metadata": {
    "solution2": "hidden"
   },
   "outputs": [
    {
     "name": "stdout",
     "output_type": "stream",
     "text": [
      " * sqlite://\n",
      "Done.\n"
     ]
    },
    {
     "data": {
      "text/html": [
       "<table>\n",
       "    <tr>\n",
       "        <th>ID</th>\n",
       "        <th>Name</th>\n",
       "        <th>Age</th>\n",
       "        <th>Sex</th>\n",
       "        <th>Heart rate</th>\n",
       "        <th>sys</th>\n",
       "        <th>dia</th>\n",
       "    </tr>\n",
       "    <tr>\n",
       "        <td>3</td>\n",
       "        <td>Adam Blythe</td>\n",
       "        <td>54</td>\n",
       "        <td>M</td>\n",
       "        <td>72</td>\n",
       "        <td>132</td>\n",
       "        <td>73</td>\n",
       "    </tr>\n",
       "    <tr>\n",
       "        <td>5</td>\n",
       "        <td>Sally-Ann Joyce</td>\n",
       "        <td>19</td>\n",
       "        <td>F</td>\n",
       "        <td>65</td>\n",
       "        <td>121</td>\n",
       "        <td>72</td>\n",
       "    </tr>\n",
       "</table>"
      ],
      "text/plain": [
       "[(3, 'Adam Blythe', 54, 'M', 72, 132, 73),\n",
       " (5, 'Sally-Ann Joyce', 19, 'F', 65, 121, 72)]"
      ]
     },
     "execution_count": 17,
     "metadata": {},
     "output_type": "execute_result"
    }
   ],
   "source": [
    "%%sql\n",
    "SELECT * FROM med_data WHERE Name LIKE \"%e\";"
   ]
  },
  {
   "cell_type": "code",
   "execution_count": null,
   "metadata": {
    "collapsed": true
   },
   "outputs": [],
   "source": [
    "%%sql # type in your code below\n"
   ]
  },
  {
   "cell_type": "markdown",
   "metadata": {},
   "source": [
    "You can also use the wildcard at either end of text if you are not sure about the beginning or end, but know the middle. For example."
   ]
  },
  {
   "cell_type": "code",
   "execution_count": 18,
   "metadata": {},
   "outputs": [
    {
     "name": "stdout",
     "output_type": "stream",
     "text": [
      " * sqlite://\n",
      "Done.\n"
     ]
    },
    {
     "data": {
      "text/html": [
       "<table>\n",
       "    <tr>\n",
       "        <th>ID</th>\n",
       "        <th>Name</th>\n",
       "        <th>Age</th>\n",
       "        <th>Sex</th>\n",
       "        <th>Heart rate</th>\n",
       "        <th>sys</th>\n",
       "        <th>dia</th>\n",
       "    </tr>\n",
       "    <tr>\n",
       "        <td>2</td>\n",
       "        <td>Maureen Gdiver</td>\n",
       "        <td>87</td>\n",
       "        <td>F</td>\n",
       "        <td>82</td>\n",
       "        <td>156</td>\n",
       "        <td>82</td>\n",
       "    </tr>\n",
       "</table>"
      ],
      "text/plain": [
       "[(2, 'Maureen Gdiver', 87, 'F', 82, 156, 82)]"
      ]
     },
     "execution_count": 18,
     "metadata": {},
     "output_type": "execute_result"
    }
   ],
   "source": [
    "%%sql\n",
    "SELECT * FROM med_data WHERE Name LIKE \"%reen%\";"
   ]
  },
  {
   "cell_type": "markdown",
   "metadata": {},
   "source": [
    "<div class=\"alert alert-success\">\n",
    "<b>Note:</b> We can also use the <code>&#95;</code> wildcard when we want to limit results to a known number of characters. For example <code>WHERE Name LIKE \"ada&#95;\"</code> will get all names beginning with 'ada' that end in anything, but must be only 4 characters in length. \n",
    "</div>"
   ]
  },
  {
   "cell_type": "markdown",
   "metadata": {},
   "source": [
    "Another useful way of searching for text patterns is with <code>GLOB</code>. This lets us check for zero or more characters (<code>*</code>) and/or with brackets (<code>[]</code>) to match any character in the list contained within the brackets. For example using the <code>drug_table</code>. "
   ]
  },
  {
   "cell_type": "code",
   "execution_count": 19,
   "metadata": {},
   "outputs": [
    {
     "name": "stdout",
     "output_type": "stream",
     "text": [
      " * sqlite://\n",
      "Done.\n"
     ]
    },
    {
     "data": {
      "text/html": [
       "<table>\n",
       "    <tr>\n",
       "        <th>ID</th>\n",
       "        <th>medication</th>\n",
       "        <th>route</th>\n",
       "        <th>freq per day</th>\n",
       "        <th>dose</th>\n",
       "        <th>patient_id</th>\n",
       "    </tr>\n",
       "    <tr>\n",
       "        <td>1</td>\n",
       "        <td>AMOXICILLIN</td>\n",
       "        <td>PO</td>\n",
       "        <td>3</td>\n",
       "        <td>500mg</td>\n",
       "        <td>1</td>\n",
       "    </tr>\n",
       "    <tr>\n",
       "        <td>2</td>\n",
       "        <td>IRBESARTAN</td>\n",
       "        <td>PO</td>\n",
       "        <td>1</td>\n",
       "        <td>150mg</td>\n",
       "        <td>2</td>\n",
       "    </tr>\n",
       "    <tr>\n",
       "        <td>3</td>\n",
       "        <td>DIGOXIN</td>\n",
       "        <td>PO</td>\n",
       "        <td>1</td>\n",
       "        <td>1.5mg</td>\n",
       "        <td>2</td>\n",
       "    </tr>\n",
       "    <tr>\n",
       "        <td>4</td>\n",
       "        <td>SIMVASTATIN</td>\n",
       "        <td>PO</td>\n",
       "        <td>1</td>\n",
       "        <td>40mg</td>\n",
       "        <td>3</td>\n",
       "    </tr>\n",
       "    <tr>\n",
       "        <td>5</td>\n",
       "        <td>RAMIPRIL</td>\n",
       "        <td>PO</td>\n",
       "        <td>1</td>\n",
       "        <td>2.5mg</td>\n",
       "        <td>4</td>\n",
       "    </tr>\n",
       "    <tr>\n",
       "        <td>6</td>\n",
       "        <td>WARFARIN</td>\n",
       "        <td>PO</td>\n",
       "        <td>1</td>\n",
       "        <td>variable</td>\n",
       "        <td>4</td>\n",
       "    </tr>\n",
       "    <tr>\n",
       "        <td>7</td>\n",
       "        <td>SENNA</td>\n",
       "        <td>PO</td>\n",
       "        <td>1</td>\n",
       "        <td>15mg</td>\n",
       "        <td>4</td>\n",
       "    </tr>\n",
       "    <tr>\n",
       "        <td>8</td>\n",
       "        <td>None</td>\n",
       "        <td>NA</td>\n",
       "        <td>0</td>\n",
       "        <td>NA</td>\n",
       "        <td>5</td>\n",
       "    </tr>\n",
       "</table>"
      ],
      "text/plain": [
       "[(1, 'AMOXICILLIN', 'PO', 3, '500mg', 1),\n",
       " (2, 'IRBESARTAN', 'PO', 1, '150mg', 2),\n",
       " (3, 'DIGOXIN', 'PO', 1, '1.5mg', 2),\n",
       " (4, 'SIMVASTATIN', 'PO', 1, '40mg', 3),\n",
       " (5, 'RAMIPRIL', 'PO', 1, '2.5mg', 4),\n",
       " (6, 'WARFARIN', 'PO', 1, 'variable', 4),\n",
       " (7, 'SENNA', 'PO', 1, '15mg', 4),\n",
       " (8, 'None', 'NA', 0, 'NA', 5)]"
      ]
     },
     "execution_count": 19,
     "metadata": {},
     "output_type": "execute_result"
    }
   ],
   "source": [
    "%%sql\n",
    "SELECT * FROM drug_table;"
   ]
  },
  {
   "cell_type": "markdown",
   "metadata": {},
   "source": [
    "Lets return all the <code>dose</code> values with <code>mg</code> in them."
   ]
  },
  {
   "cell_type": "code",
   "execution_count": 21,
   "metadata": {},
   "outputs": [
    {
     "name": "stdout",
     "output_type": "stream",
     "text": [
      " * sqlite://\n",
      "Done.\n"
     ]
    },
    {
     "data": {
      "text/html": [
       "<table>\n",
       "    <tr>\n",
       "        <th>ID</th>\n",
       "        <th>medication</th>\n",
       "        <th>route</th>\n",
       "        <th>freq per day</th>\n",
       "        <th>dose</th>\n",
       "        <th>patient_id</th>\n",
       "    </tr>\n",
       "    <tr>\n",
       "        <td>1</td>\n",
       "        <td>AMOXICILLIN</td>\n",
       "        <td>PO</td>\n",
       "        <td>3</td>\n",
       "        <td>500mg</td>\n",
       "        <td>1</td>\n",
       "    </tr>\n",
       "    <tr>\n",
       "        <td>2</td>\n",
       "        <td>IRBESARTAN</td>\n",
       "        <td>PO</td>\n",
       "        <td>1</td>\n",
       "        <td>150mg</td>\n",
       "        <td>2</td>\n",
       "    </tr>\n",
       "    <tr>\n",
       "        <td>3</td>\n",
       "        <td>DIGOXIN</td>\n",
       "        <td>PO</td>\n",
       "        <td>1</td>\n",
       "        <td>1.5mg</td>\n",
       "        <td>2</td>\n",
       "    </tr>\n",
       "    <tr>\n",
       "        <td>4</td>\n",
       "        <td>SIMVASTATIN</td>\n",
       "        <td>PO</td>\n",
       "        <td>1</td>\n",
       "        <td>40mg</td>\n",
       "        <td>3</td>\n",
       "    </tr>\n",
       "    <tr>\n",
       "        <td>5</td>\n",
       "        <td>RAMIPRIL</td>\n",
       "        <td>PO</td>\n",
       "        <td>1</td>\n",
       "        <td>2.5mg</td>\n",
       "        <td>4</td>\n",
       "    </tr>\n",
       "    <tr>\n",
       "        <td>7</td>\n",
       "        <td>SENNA</td>\n",
       "        <td>PO</td>\n",
       "        <td>1</td>\n",
       "        <td>15mg</td>\n",
       "        <td>4</td>\n",
       "    </tr>\n",
       "</table>"
      ],
      "text/plain": [
       "[(1, 'AMOXICILLIN', 'PO', 3, '500mg', 1),\n",
       " (2, 'IRBESARTAN', 'PO', 1, '150mg', 2),\n",
       " (3, 'DIGOXIN', 'PO', 1, '1.5mg', 2),\n",
       " (4, 'SIMVASTATIN', 'PO', 1, '40mg', 3),\n",
       " (5, 'RAMIPRIL', 'PO', 1, '2.5mg', 4),\n",
       " (7, 'SENNA', 'PO', 1, '15mg', 4)]"
      ]
     },
     "execution_count": 21,
     "metadata": {},
     "output_type": "execute_result"
    }
   ],
   "source": [
    "%%sql\n",
    "SELECT * FROM drug_table WHERE dose GLOB \"*mg\";"
   ]
  },
  {
   "cell_type": "markdown",
   "metadata": {},
   "source": [
    "We could return all the drug names from A to E."
   ]
  },
  {
   "cell_type": "code",
   "execution_count": 24,
   "metadata": {},
   "outputs": [
    {
     "name": "stdout",
     "output_type": "stream",
     "text": [
      " * sqlite://\n",
      "Done.\n"
     ]
    },
    {
     "data": {
      "text/html": [
       "<table>\n",
       "    <tr>\n",
       "        <th>ID</th>\n",
       "        <th>medication</th>\n",
       "        <th>route</th>\n",
       "        <th>freq per day</th>\n",
       "        <th>dose</th>\n",
       "        <th>patient_id</th>\n",
       "    </tr>\n",
       "    <tr>\n",
       "        <td>1</td>\n",
       "        <td>AMOXICILLIN</td>\n",
       "        <td>PO</td>\n",
       "        <td>3</td>\n",
       "        <td>500mg</td>\n",
       "        <td>1</td>\n",
       "    </tr>\n",
       "    <tr>\n",
       "        <td>3</td>\n",
       "        <td>DIGOXIN</td>\n",
       "        <td>PO</td>\n",
       "        <td>1</td>\n",
       "        <td>1.5mg</td>\n",
       "        <td>2</td>\n",
       "    </tr>\n",
       "</table>"
      ],
      "text/plain": [
       "[(1, 'AMOXICILLIN', 'PO', 3, '500mg', 1), (3, 'DIGOXIN', 'PO', 1, '1.5mg', 2)]"
      ]
     },
     "execution_count": 24,
     "metadata": {},
     "output_type": "execute_result"
    }
   ],
   "source": [
    "%%sql\n",
    "SELECT * FROM drug_table WHERE medication GLOB \"[A-E]*\";"
   ]
  },
  {
   "cell_type": "markdown",
   "metadata": {},
   "source": [
    "Or all the drug names that <strong>do not</strong> start with A to E."
   ]
  },
  {
   "cell_type": "code",
   "execution_count": 25,
   "metadata": {},
   "outputs": [
    {
     "name": "stdout",
     "output_type": "stream",
     "text": [
      " * sqlite://\n",
      "Done.\n"
     ]
    },
    {
     "data": {
      "text/html": [
       "<table>\n",
       "    <tr>\n",
       "        <th>ID</th>\n",
       "        <th>medication</th>\n",
       "        <th>route</th>\n",
       "        <th>freq per day</th>\n",
       "        <th>dose</th>\n",
       "        <th>patient_id</th>\n",
       "    </tr>\n",
       "    <tr>\n",
       "        <td>2</td>\n",
       "        <td>IRBESARTAN</td>\n",
       "        <td>PO</td>\n",
       "        <td>1</td>\n",
       "        <td>150mg</td>\n",
       "        <td>2</td>\n",
       "    </tr>\n",
       "    <tr>\n",
       "        <td>4</td>\n",
       "        <td>SIMVASTATIN</td>\n",
       "        <td>PO</td>\n",
       "        <td>1</td>\n",
       "        <td>40mg</td>\n",
       "        <td>3</td>\n",
       "    </tr>\n",
       "    <tr>\n",
       "        <td>5</td>\n",
       "        <td>RAMIPRIL</td>\n",
       "        <td>PO</td>\n",
       "        <td>1</td>\n",
       "        <td>2.5mg</td>\n",
       "        <td>4</td>\n",
       "    </tr>\n",
       "    <tr>\n",
       "        <td>6</td>\n",
       "        <td>WARFARIN</td>\n",
       "        <td>PO</td>\n",
       "        <td>1</td>\n",
       "        <td>variable</td>\n",
       "        <td>4</td>\n",
       "    </tr>\n",
       "    <tr>\n",
       "        <td>7</td>\n",
       "        <td>SENNA</td>\n",
       "        <td>PO</td>\n",
       "        <td>1</td>\n",
       "        <td>15mg</td>\n",
       "        <td>4</td>\n",
       "    </tr>\n",
       "    <tr>\n",
       "        <td>8</td>\n",
       "        <td>None</td>\n",
       "        <td>NA</td>\n",
       "        <td>0</td>\n",
       "        <td>NA</td>\n",
       "        <td>5</td>\n",
       "    </tr>\n",
       "</table>"
      ],
      "text/plain": [
       "[(2, 'IRBESARTAN', 'PO', 1, '150mg', 2),\n",
       " (4, 'SIMVASTATIN', 'PO', 1, '40mg', 3),\n",
       " (5, 'RAMIPRIL', 'PO', 1, '2.5mg', 4),\n",
       " (6, 'WARFARIN', 'PO', 1, 'variable', 4),\n",
       " (7, 'SENNA', 'PO', 1, '15mg', 4),\n",
       " (8, 'None', 'NA', 0, 'NA', 5)]"
      ]
     },
     "execution_count": 25,
     "metadata": {},
     "output_type": "execute_result"
    }
   ],
   "source": [
    "%%sql\n",
    "SELECT * FROM drug_table WHERE medication GLOB \"[^A-E]*\";"
   ]
  },
  {
   "cell_type": "markdown",
   "metadata": {},
   "source": [
    "We can also use the <code>?</code> wildcard to specify a certain position (i.e. which character number in a string of text). So for example if we want <code>mg</code> to be in position 3 (as in 40mg and 15mg)."
   ]
  },
  {
   "cell_type": "code",
   "execution_count": 34,
   "metadata": {},
   "outputs": [
    {
     "name": "stdout",
     "output_type": "stream",
     "text": [
      " * sqlite://\n",
      "Done.\n"
     ]
    },
    {
     "data": {
      "text/html": [
       "<table>\n",
       "    <tr>\n",
       "        <th>ID</th>\n",
       "        <th>medication</th>\n",
       "        <th>route</th>\n",
       "        <th>freq per day</th>\n",
       "        <th>dose</th>\n",
       "        <th>patient_id</th>\n",
       "    </tr>\n",
       "    <tr>\n",
       "        <td>4</td>\n",
       "        <td>SIMVASTATIN</td>\n",
       "        <td>PO</td>\n",
       "        <td>1</td>\n",
       "        <td>40mg</td>\n",
       "        <td>3</td>\n",
       "    </tr>\n",
       "    <tr>\n",
       "        <td>7</td>\n",
       "        <td>SENNA</td>\n",
       "        <td>PO</td>\n",
       "        <td>1</td>\n",
       "        <td>15mg</td>\n",
       "        <td>4</td>\n",
       "    </tr>\n",
       "</table>"
      ],
      "text/plain": [
       "[(4, 'SIMVASTATIN', 'PO', 1, '40mg', 3), (7, 'SENNA', 'PO', 1, '15mg', 4)]"
      ]
     },
     "execution_count": 34,
     "metadata": {},
     "output_type": "execute_result"
    }
   ],
   "source": [
    "%%sql\n",
    "SELECT * FROM drug_table WHERE dose GLOB \"??mg\";"
   ]
  },
  {
   "cell_type": "markdown",
   "metadata": {
    "solution2": "hidden",
    "solution2_first": true
   },
   "source": [
    "<div class=\"alert alert-block alert-info\">\n",
    "<b>Task 6:</b>\n",
    "<br> \n",
    "Write a query to return all the medications details that end in 'IN'.\n",
    "</div>"
   ]
  },
  {
   "cell_type": "code",
   "execution_count": 35,
   "metadata": {
    "solution2": "hidden"
   },
   "outputs": [
    {
     "name": "stdout",
     "output_type": "stream",
     "text": [
      " * sqlite://\n",
      "Done.\n"
     ]
    },
    {
     "data": {
      "text/html": [
       "<table>\n",
       "    <tr>\n",
       "        <th>ID</th>\n",
       "        <th>medication</th>\n",
       "        <th>route</th>\n",
       "        <th>freq per day</th>\n",
       "        <th>dose</th>\n",
       "        <th>patient_id</th>\n",
       "    </tr>\n",
       "    <tr>\n",
       "        <td>1</td>\n",
       "        <td>AMOXICILLIN</td>\n",
       "        <td>PO</td>\n",
       "        <td>3</td>\n",
       "        <td>500mg</td>\n",
       "        <td>1</td>\n",
       "    </tr>\n",
       "    <tr>\n",
       "        <td>3</td>\n",
       "        <td>DIGOXIN</td>\n",
       "        <td>PO</td>\n",
       "        <td>1</td>\n",
       "        <td>1.5mg</td>\n",
       "        <td>2</td>\n",
       "    </tr>\n",
       "    <tr>\n",
       "        <td>4</td>\n",
       "        <td>SIMVASTATIN</td>\n",
       "        <td>PO</td>\n",
       "        <td>1</td>\n",
       "        <td>40mg</td>\n",
       "        <td>3</td>\n",
       "    </tr>\n",
       "    <tr>\n",
       "        <td>6</td>\n",
       "        <td>WARFARIN</td>\n",
       "        <td>PO</td>\n",
       "        <td>1</td>\n",
       "        <td>variable</td>\n",
       "        <td>4</td>\n",
       "    </tr>\n",
       "</table>"
      ],
      "text/plain": [
       "[(1, 'AMOXICILLIN', 'PO', 3, '500mg', 1),\n",
       " (3, 'DIGOXIN', 'PO', 1, '1.5mg', 2),\n",
       " (4, 'SIMVASTATIN', 'PO', 1, '40mg', 3),\n",
       " (6, 'WARFARIN', 'PO', 1, 'variable', 4)]"
      ]
     },
     "execution_count": 35,
     "metadata": {},
     "output_type": "execute_result"
    }
   ],
   "source": [
    "%%sql\n",
    "SELECT * FROM drug_table WHERE medication GLOB \"*IN\";"
   ]
  },
  {
   "cell_type": "code",
   "execution_count": null,
   "metadata": {
    "collapsed": true
   },
   "outputs": [],
   "source": [
    "%%sql # type in your code below\n"
   ]
  },
  {
   "cell_type": "markdown",
   "metadata": {},
   "source": [
    "#### 3.2 Combining data with conditional queries"
   ]
  },
  {
   "cell_type": "markdown",
   "metadata": {},
   "source": [
    "We can also combine data from both our tables using a <code>join</code>. We can construct a query to check if all the people who are hypertensive (have high blood pressure) are prescribed an antihypertensive (blood pressure medication) by combining data from both tables."
   ]
  },
  {
   "cell_type": "code",
   "execution_count": 76,
   "metadata": {},
   "outputs": [
    {
     "name": "stdout",
     "output_type": "stream",
     "text": [
      " * sqlite://\n",
      "Done.\n"
     ]
    },
    {
     "data": {
      "text/html": [
       "<table>\n",
       "    <tr>\n",
       "        <th>Name</th>\n",
       "        <th>sys</th>\n",
       "        <th>medication</th>\n",
       "    </tr>\n",
       "    <tr>\n",
       "        <td>Maureen Gdiver</td>\n",
       "        <td>156</td>\n",
       "        <td>IRBESARTAN</td>\n",
       "    </tr>\n",
       "    <tr>\n",
       "        <td>Maureen Gdiver</td>\n",
       "        <td>156</td>\n",
       "        <td>DIGOXIN</td>\n",
       "    </tr>\n",
       "    <tr>\n",
       "        <td>Darren Sanders</td>\n",
       "        <td>155</td>\n",
       "        <td>RAMIPRIL</td>\n",
       "    </tr>\n",
       "    <tr>\n",
       "        <td>Darren Sanders</td>\n",
       "        <td>155</td>\n",
       "        <td>WARFARIN</td>\n",
       "    </tr>\n",
       "    <tr>\n",
       "        <td>Darren Sanders</td>\n",
       "        <td>155</td>\n",
       "        <td>SENNA</td>\n",
       "    </tr>\n",
       "</table>"
      ],
      "text/plain": [
       "[('Maureen Gdiver', 156, 'IRBESARTAN'),\n",
       " ('Maureen Gdiver', 156, 'DIGOXIN'),\n",
       " ('Darren Sanders', 155, 'RAMIPRIL'),\n",
       " ('Darren Sanders', 155, 'WARFARIN'),\n",
       " ('Darren Sanders', 155, 'SENNA')]"
      ]
     },
     "execution_count": 76,
     "metadata": {},
     "output_type": "execute_result"
    }
   ],
   "source": [
    "%%sql \n",
    "SELECT Name, sys, medication FROM med_data \n",
    "INNER JOIN drug_table ON drug_table.patient_id = med_data.Id \n",
    "WHERE med_data.sys > 140;"
   ]
  },
  {
   "cell_type": "markdown",
   "metadata": {},
   "source": [
    "<div class=\"alert alert-success\">\n",
    "<b>Note:</b> To be clear about which table a field is in, we use a dot. The convention is table name (dot) field name. e.g. <code>drug_table.patient_id</code>.\n",
    "</div>"
   ]
  },
  {
   "cell_type": "markdown",
   "metadata": {
    "solution2": "hidden",
    "solution2_first": true
   },
   "source": [
    "<div class=\"alert alert-block alert-info\">\n",
    "<b>Task 7:</b>\n",
    "<br> \n",
    "Which items of medication presented in the last query are for the treatment of hypertension (high blood pressure)? Go to the <a href=\"https://bnf.nice.org.uk/\" target=\"_blank\">British National Formulary (BNF)</a> and search for the medications. Look at their indications for use.  \n",
    "</div>"
   ]
  },
  {
   "cell_type": "markdown",
   "metadata": {
    "solution2": "hidden"
   },
   "source": [
    "<ul>\n",
    "<li>IRBESARTAN</li>\n",
    "<li>RAMIPRIL</li>\n",
    "</ul>"
   ]
  },
  {
   "cell_type": "markdown",
   "metadata": {},
   "source": [
    "There are many different operators that can be used in SQL for arithmetic, comparison and logic. To see a complete list, take a look at this link: <a href=\"https://www.w3schools.com/sql/sql_operators.asp\" target=\"_blank\">SQL operators</a>. "
   ]
  },
  {
   "cell_type": "markdown",
   "metadata": {},
   "source": [
    "What we used in the query above is called a join. We will look at joins in more detail in the next workbook."
   ]
  },
  {
   "cell_type": "code",
   "execution_count": null,
   "metadata": {
    "collapsed": true
   },
   "outputs": [],
   "source": []
  }
 ],
 "metadata": {
  "hide_input": false,
  "kernelspec": {
   "display_name": "Python 3",
   "language": "python",
   "name": "python3"
  },
  "language_info": {
   "codemirror_mode": {
    "name": "ipython",
    "version": 3
   },
   "file_extension": ".py",
   "mimetype": "text/x-python",
   "name": "python",
   "nbconvert_exporter": "python",
   "pygments_lexer": "ipython3",
   "version": "3.6.3"
  }
 },
 "nbformat": 4,
 "nbformat_minor": 2
}
